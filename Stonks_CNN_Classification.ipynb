{
 "cells": [
  {
   "cell_type": "code",
   "execution_count": null,
   "metadata": {
    "colab": {
     "base_uri": "https://localhost:8080/",
     "height": 697
    },
    "collapsed": true,
    "id": "0h_hFE6XIE_k",
    "outputId": "6155478a-1b43-49eb-f437-21a592d57fd4"
   },
   "outputs": [
    {
     "name": "stdout",
     "output_type": "stream",
     "text": [
      "Collecting wandb\n",
      "  Downloading wandb-0.16.1-py3-none-any.whl (2.1 MB)\n",
      "\u001b[2K     \u001b[90m━━━━━━━━━━━━━━━━━━━━━━━━━━━━━━━━━━━━━━━━\u001b[0m \u001b[32m2.1/2.1 MB\u001b[0m \u001b[31m19.8 MB/s\u001b[0m eta \u001b[36m0:00:00\u001b[0m\n",
      "\u001b[?25hRequirement already satisfied: Click!=8.0.0,>=7.1 in /usr/local/lib/python3.10/dist-packages (from wandb) (8.1.7)\n",
      "Collecting GitPython!=3.1.29,>=1.0.0 (from wandb)\n",
      "  Downloading GitPython-3.1.40-py3-none-any.whl (190 kB)\n",
      "\u001b[2K     \u001b[90m━━━━━━━━━━━━━━━━━━━━━━━━━━━━━━━━━━━━━━━━\u001b[0m \u001b[32m190.6/190.6 kB\u001b[0m \u001b[31m14.8 MB/s\u001b[0m eta \u001b[36m0:00:00\u001b[0m\n",
      "\u001b[?25hRequirement already satisfied: requests<3,>=2.0.0 in /usr/local/lib/python3.10/dist-packages (from wandb) (2.31.0)\n",
      "Requirement already satisfied: psutil>=5.0.0 in /usr/local/lib/python3.10/dist-packages (from wandb) (5.9.5)\n",
      "Collecting sentry-sdk>=1.0.0 (from wandb)\n",
      "  Downloading sentry_sdk-1.39.1-py2.py3-none-any.whl (254 kB)\n",
      "\u001b[2K     \u001b[90m━━━━━━━━━━━━━━━━━━━━━━━━━━━━━━━━━━━━━━━━\u001b[0m \u001b[32m254.1/254.1 kB\u001b[0m \u001b[31m20.3 MB/s\u001b[0m eta \u001b[36m0:00:00\u001b[0m\n",
      "\u001b[?25hCollecting docker-pycreds>=0.4.0 (from wandb)\n",
      "  Downloading docker_pycreds-0.4.0-py2.py3-none-any.whl (9.0 kB)\n",
      "Requirement already satisfied: PyYAML in /usr/local/lib/python3.10/dist-packages (from wandb) (6.0.1)\n",
      "Collecting setproctitle (from wandb)\n",
      "  Downloading setproctitle-1.3.3-cp310-cp310-manylinux_2_5_x86_64.manylinux1_x86_64.manylinux_2_17_x86_64.manylinux2014_x86_64.whl (30 kB)\n",
      "Requirement already satisfied: setuptools in /usr/local/lib/python3.10/dist-packages (from wandb) (67.7.2)\n",
      "Requirement already satisfied: appdirs>=1.4.3 in /usr/local/lib/python3.10/dist-packages (from wandb) (1.4.4)\n",
      "Requirement already satisfied: protobuf!=4.21.0,<5,>=3.19.0 in /usr/local/lib/python3.10/dist-packages (from wandb) (3.20.3)\n",
      "Requirement already satisfied: six>=1.4.0 in /usr/local/lib/python3.10/dist-packages (from docker-pycreds>=0.4.0->wandb) (1.16.0)\n",
      "Collecting gitdb<5,>=4.0.1 (from GitPython!=3.1.29,>=1.0.0->wandb)\n",
      "  Downloading gitdb-4.0.11-py3-none-any.whl (62 kB)\n",
      "\u001b[2K     \u001b[90m━━━━━━━━━━━━━━━━━━━━━━━━━━━━━━━━━━━━━━━━\u001b[0m \u001b[32m62.7/62.7 kB\u001b[0m \u001b[31m6.8 MB/s\u001b[0m eta \u001b[36m0:00:00\u001b[0m\n",
      "\u001b[?25hRequirement already satisfied: charset-normalizer<4,>=2 in /usr/local/lib/python3.10/dist-packages (from requests<3,>=2.0.0->wandb) (3.3.2)\n",
      "Requirement already satisfied: idna<4,>=2.5 in /usr/local/lib/python3.10/dist-packages (from requests<3,>=2.0.0->wandb) (3.6)\n",
      "Requirement already satisfied: urllib3<3,>=1.21.1 in /usr/local/lib/python3.10/dist-packages (from requests<3,>=2.0.0->wandb) (2.0.7)\n",
      "Requirement already satisfied: certifi>=2017.4.17 in /usr/local/lib/python3.10/dist-packages (from requests<3,>=2.0.0->wandb) (2023.11.17)\n",
      "Collecting smmap<6,>=3.0.1 (from gitdb<5,>=4.0.1->GitPython!=3.1.29,>=1.0.0->wandb)\n",
      "  Downloading smmap-5.0.1-py3-none-any.whl (24 kB)\n",
      "Installing collected packages: smmap, setproctitle, sentry-sdk, docker-pycreds, gitdb, GitPython, wandb\n",
      "Successfully installed GitPython-3.1.40 docker-pycreds-0.4.0 gitdb-4.0.11 sentry-sdk-1.39.1 setproctitle-1.3.3 smmap-5.0.1 wandb-0.16.1\n"
     ]
    },
    {
     "data": {
      "application/javascript": [
       "\n",
       "        window._wandbApiKey = new Promise((resolve, reject) => {\n",
       "            function loadScript(url) {\n",
       "            return new Promise(function(resolve, reject) {\n",
       "                let newScript = document.createElement(\"script\");\n",
       "                newScript.onerror = reject;\n",
       "                newScript.onload = resolve;\n",
       "                document.body.appendChild(newScript);\n",
       "                newScript.src = url;\n",
       "            });\n",
       "            }\n",
       "            loadScript(\"https://cdn.jsdelivr.net/npm/postmate/build/postmate.min.js\").then(() => {\n",
       "            const iframe = document.createElement('iframe')\n",
       "            iframe.style.cssText = \"width:0;height:0;border:none\"\n",
       "            document.body.appendChild(iframe)\n",
       "            const handshake = new Postmate({\n",
       "                container: iframe,\n",
       "                url: 'https://wandb.ai/authorize'\n",
       "            });\n",
       "            const timeout = setTimeout(() => reject(\"Couldn't auto authenticate\"), 5000)\n",
       "            handshake.then(function(child) {\n",
       "                child.on('authorize', data => {\n",
       "                    clearTimeout(timeout)\n",
       "                    resolve(data)\n",
       "                });\n",
       "            });\n",
       "            })\n",
       "        });\n",
       "    "
      ],
      "text/plain": [
       "<IPython.core.display.Javascript object>"
      ]
     },
     "metadata": {},
     "output_type": "display_data"
    },
    {
     "name": "stderr",
     "output_type": "stream",
     "text": [
      "\u001b[34m\u001b[1mwandb\u001b[0m: Logging into wandb.ai. (Learn how to deploy a W&B server locally: https://wandb.me/wandb-server)\n",
      "\u001b[34m\u001b[1mwandb\u001b[0m: You can find your API key in your browser here: https://wandb.ai/authorize\n",
      "wandb: Paste an API key from your profile and hit enter, or press ctrl+c to quit:"
     ]
    },
    {
     "name": "stdout",
     "output_type": "stream",
     "text": [
      " ··········\n"
     ]
    },
    {
     "name": "stderr",
     "output_type": "stream",
     "text": [
      "\u001b[34m\u001b[1mwandb\u001b[0m: Appending key for api.wandb.ai to your netrc file: /root/.netrc\n"
     ]
    }
   ],
   "source": [
    "!pip install wandb\n",
    "import wandb\n",
    "wandb.login()\n",
    "from wandb.keras import WandbCallback, WandbModelCheckpoint"
   ]
  },
  {
   "cell_type": "code",
   "execution_count": null,
   "metadata": {
    "id": "fPxYPLmULNZV"
   },
   "outputs": [],
   "source": [
    "# from google.colab import drive\n",
    "# drive.mount('/content/drive/',force_remount=True)"
   ]
  },
  {
   "cell_type": "markdown",
   "metadata": {
    "id": "cd9sqtbHyr6G"
   },
   "source": [
    "# Importing the necessary"
   ]
  },
  {
   "cell_type": "markdown",
   "metadata": {
    "id": "hrbrCKU0LDPX"
   },
   "source": []
  },
  {
   "cell_type": "markdown",
   "metadata": {
    "id": "zD7GSHR5yzvU"
   },
   "source": [
    "# EDA (generating a correlation image)"
   ]
  },
  {
   "cell_type": "code",
   "execution_count": null,
   "metadata": {
    "colab": {
     "base_uri": "https://localhost:8080/"
    },
    "id": "2Dtrtzp_LeX6",
    "outputId": "b121eb24-9acd-4ce4-c973-a1cef04f15d3"
   },
   "outputs": [
    {
     "name": "stderr",
     "output_type": "stream",
     "text": [
      "Downloading...\n",
      "From: https://drive.google.com/uc?id=1lG0YGI-MQQzyu-4_CmanTIc_wnna6JRw\n",
      "To: /content/1m_open.csv\n",
      "100%|██████████| 578M/578M [00:03<00:00, 182MB/s]\n"
     ]
    }
   ],
   "source": [
    "#df_stonks = pd.read_csv('/content/drive/MyDrive/Stonks/1m_open.csv')\n",
    "file_id = '1lG0YGI-MQQzyu-4_CmanTIc_wnna6JRw'\n",
    "output = '1m_open.csv'\n",
    "gdown.download(f'https://drive.google.com/uc?id={file_id}', output, quiet=False)\n",
    "df_stonks = pd.read_csv(output)"
   ]
  },
  {
   "cell_type": "code",
   "execution_count": null,
   "metadata": {
    "colab": {
     "base_uri": "https://localhost:8080/",
     "height": 791
    },
    "id": "b8IEFmF57TCI",
    "outputId": "a99809b2-78c8-4d4c-f7dd-a36693a0c02d"
   },
   "outputs": [
    {
     "data": {
      "text/html": [
       "\n",
       "  <div id=\"df-f50913b7-d01a-487c-ad1d-22a4f42a3cef\" class=\"colab-df-container\">\n",
       "    <div>\n",
       "<style scoped>\n",
       "    .dataframe tbody tr th:only-of-type {\n",
       "        vertical-align: middle;\n",
       "    }\n",
       "\n",
       "    .dataframe tbody tr th {\n",
       "        vertical-align: top;\n",
       "    }\n",
       "\n",
       "    .dataframe thead th {\n",
       "        text-align: right;\n",
       "    }\n",
       "</style>\n",
       "<table border=\"1\" class=\"dataframe\">\n",
       "  <thead>\n",
       "    <tr style=\"text-align: right;\">\n",
       "      <th></th>\n",
       "      <th>Date</th>\n",
       "      <th>AAL</th>\n",
       "      <th>AAPL</th>\n",
       "      <th>ADBE</th>\n",
       "      <th>ADI</th>\n",
       "      <th>ADP</th>\n",
       "      <th>ADSK</th>\n",
       "      <th>AKAM</th>\n",
       "      <th>AMAT</th>\n",
       "      <th>AMGN</th>\n",
       "      <th>...</th>\n",
       "      <th>DOCU</th>\n",
       "      <th>ZM</th>\n",
       "      <th>DXCM</th>\n",
       "      <th>PDD</th>\n",
       "      <th>MRNA</th>\n",
       "      <th>AEP</th>\n",
       "      <th>MTCH</th>\n",
       "      <th>OKTA</th>\n",
       "      <th>TEAM</th>\n",
       "      <th>KDP</th>\n",
       "    </tr>\n",
       "  </thead>\n",
       "  <tbody>\n",
       "    <tr>\n",
       "      <th>200000</th>\n",
       "      <td>2018-01-18 10:56:00</td>\n",
       "      <td>58.260</td>\n",
       "      <td>44.89</td>\n",
       "      <td>194.6500</td>\n",
       "      <td>97.770</td>\n",
       "      <td>121.2800</td>\n",
       "      <td>113.4200</td>\n",
       "      <td>65.2500</td>\n",
       "      <td>58.000</td>\n",
       "      <td>186.6100</td>\n",
       "      <td>...</td>\n",
       "      <td>38.0</td>\n",
       "      <td>65.0</td>\n",
       "      <td>14.03</td>\n",
       "      <td>26.6</td>\n",
       "      <td>22.0</td>\n",
       "      <td>67.7200</td>\n",
       "      <td>31.1100</td>\n",
       "      <td>26.9800</td>\n",
       "      <td>54.7200</td>\n",
       "      <td>95.4500</td>\n",
       "    </tr>\n",
       "    <tr>\n",
       "      <th>200001</th>\n",
       "      <td>2018-01-18 10:57:00</td>\n",
       "      <td>58.230</td>\n",
       "      <td>44.86</td>\n",
       "      <td>194.6200</td>\n",
       "      <td>97.650</td>\n",
       "      <td>121.2202</td>\n",
       "      <td>113.4200</td>\n",
       "      <td>65.2200</td>\n",
       "      <td>57.950</td>\n",
       "      <td>186.8000</td>\n",
       "      <td>...</td>\n",
       "      <td>38.0</td>\n",
       "      <td>65.0</td>\n",
       "      <td>14.02</td>\n",
       "      <td>26.6</td>\n",
       "      <td>22.0</td>\n",
       "      <td>67.7700</td>\n",
       "      <td>31.1300</td>\n",
       "      <td>26.9300</td>\n",
       "      <td>54.5000</td>\n",
       "      <td>95.4300</td>\n",
       "    </tr>\n",
       "    <tr>\n",
       "      <th>200002</th>\n",
       "      <td>2018-01-18 10:58:00</td>\n",
       "      <td>58.235</td>\n",
       "      <td>44.86</td>\n",
       "      <td>194.6625</td>\n",
       "      <td>97.640</td>\n",
       "      <td>121.1750</td>\n",
       "      <td>113.3500</td>\n",
       "      <td>65.1400</td>\n",
       "      <td>57.965</td>\n",
       "      <td>186.7900</td>\n",
       "      <td>...</td>\n",
       "      <td>38.0</td>\n",
       "      <td>65.0</td>\n",
       "      <td>14.04</td>\n",
       "      <td>26.6</td>\n",
       "      <td>22.0</td>\n",
       "      <td>67.7923</td>\n",
       "      <td>31.1300</td>\n",
       "      <td>26.8900</td>\n",
       "      <td>54.5891</td>\n",
       "      <td>95.3625</td>\n",
       "    </tr>\n",
       "    <tr>\n",
       "      <th>200003</th>\n",
       "      <td>2018-01-18 10:59:00</td>\n",
       "      <td>58.230</td>\n",
       "      <td>44.85</td>\n",
       "      <td>194.5400</td>\n",
       "      <td>97.620</td>\n",
       "      <td>121.1700</td>\n",
       "      <td>113.3200</td>\n",
       "      <td>65.1401</td>\n",
       "      <td>57.970</td>\n",
       "      <td>186.8000</td>\n",
       "      <td>...</td>\n",
       "      <td>38.0</td>\n",
       "      <td>65.0</td>\n",
       "      <td>14.04</td>\n",
       "      <td>26.6</td>\n",
       "      <td>22.0</td>\n",
       "      <td>67.7900</td>\n",
       "      <td>31.0600</td>\n",
       "      <td>26.8500</td>\n",
       "      <td>54.5100</td>\n",
       "      <td>95.3625</td>\n",
       "    </tr>\n",
       "    <tr>\n",
       "      <th>200004</th>\n",
       "      <td>2018-01-18 11:00:00</td>\n",
       "      <td>58.140</td>\n",
       "      <td>44.79</td>\n",
       "      <td>194.4400</td>\n",
       "      <td>97.600</td>\n",
       "      <td>121.2200</td>\n",
       "      <td>113.2500</td>\n",
       "      <td>65.1350</td>\n",
       "      <td>57.895</td>\n",
       "      <td>186.7972</td>\n",
       "      <td>...</td>\n",
       "      <td>38.0</td>\n",
       "      <td>65.0</td>\n",
       "      <td>14.03</td>\n",
       "      <td>26.6</td>\n",
       "      <td>22.0</td>\n",
       "      <td>67.8100</td>\n",
       "      <td>31.0763</td>\n",
       "      <td>26.8300</td>\n",
       "      <td>54.3300</td>\n",
       "      <td>95.3800</td>\n",
       "    </tr>\n",
       "    <tr>\n",
       "      <th>...</th>\n",
       "      <td>...</td>\n",
       "      <td>...</td>\n",
       "      <td>...</td>\n",
       "      <td>...</td>\n",
       "      <td>...</td>\n",
       "      <td>...</td>\n",
       "      <td>...</td>\n",
       "      <td>...</td>\n",
       "      <td>...</td>\n",
       "      <td>...</td>\n",
       "      <td>...</td>\n",
       "      <td>...</td>\n",
       "      <td>...</td>\n",
       "      <td>...</td>\n",
       "      <td>...</td>\n",
       "      <td>...</td>\n",
       "      <td>...</td>\n",
       "      <td>...</td>\n",
       "      <td>...</td>\n",
       "      <td>...</td>\n",
       "      <td>...</td>\n",
       "    </tr>\n",
       "    <tr>\n",
       "      <th>209995</th>\n",
       "      <td>2018-02-23 15:12:00</td>\n",
       "      <td>53.290</td>\n",
       "      <td>43.75</td>\n",
       "      <td>208.3200</td>\n",
       "      <td>90.160</td>\n",
       "      <td>117.0600</td>\n",
       "      <td>114.5000</td>\n",
       "      <td>67.0500</td>\n",
       "      <td>56.910</td>\n",
       "      <td>185.5300</td>\n",
       "      <td>...</td>\n",
       "      <td>38.0</td>\n",
       "      <td>65.0</td>\n",
       "      <td>14.06</td>\n",
       "      <td>26.6</td>\n",
       "      <td>22.0</td>\n",
       "      <td>67.1000</td>\n",
       "      <td>41.8800</td>\n",
       "      <td>36.6616</td>\n",
       "      <td>52.9700</td>\n",
       "      <td>115.4050</td>\n",
       "    </tr>\n",
       "    <tr>\n",
       "      <th>209996</th>\n",
       "      <td>2018-02-23 15:13:00</td>\n",
       "      <td>53.290</td>\n",
       "      <td>43.78</td>\n",
       "      <td>208.4100</td>\n",
       "      <td>90.215</td>\n",
       "      <td>117.0800</td>\n",
       "      <td>114.5114</td>\n",
       "      <td>67.0700</td>\n",
       "      <td>56.920</td>\n",
       "      <td>185.6700</td>\n",
       "      <td>...</td>\n",
       "      <td>38.0</td>\n",
       "      <td>65.0</td>\n",
       "      <td>14.05</td>\n",
       "      <td>26.6</td>\n",
       "      <td>22.0</td>\n",
       "      <td>67.0800</td>\n",
       "      <td>41.8650</td>\n",
       "      <td>36.6300</td>\n",
       "      <td>52.9878</td>\n",
       "      <td>115.3900</td>\n",
       "    </tr>\n",
       "    <tr>\n",
       "      <th>209997</th>\n",
       "      <td>2018-02-23 15:14:00</td>\n",
       "      <td>53.290</td>\n",
       "      <td>43.78</td>\n",
       "      <td>208.3900</td>\n",
       "      <td>90.230</td>\n",
       "      <td>117.0900</td>\n",
       "      <td>114.5900</td>\n",
       "      <td>67.0500</td>\n",
       "      <td>56.950</td>\n",
       "      <td>185.6100</td>\n",
       "      <td>...</td>\n",
       "      <td>38.0</td>\n",
       "      <td>65.0</td>\n",
       "      <td>14.05</td>\n",
       "      <td>26.6</td>\n",
       "      <td>22.0</td>\n",
       "      <td>67.0633</td>\n",
       "      <td>41.8800</td>\n",
       "      <td>36.6200</td>\n",
       "      <td>53.0100</td>\n",
       "      <td>115.3600</td>\n",
       "    </tr>\n",
       "    <tr>\n",
       "      <th>209998</th>\n",
       "      <td>2018-02-23 15:15:00</td>\n",
       "      <td>53.260</td>\n",
       "      <td>43.78</td>\n",
       "      <td>208.3700</td>\n",
       "      <td>90.240</td>\n",
       "      <td>117.1000</td>\n",
       "      <td>114.6100</td>\n",
       "      <td>67.0700</td>\n",
       "      <td>56.930</td>\n",
       "      <td>185.7100</td>\n",
       "      <td>...</td>\n",
       "      <td>38.0</td>\n",
       "      <td>65.0</td>\n",
       "      <td>14.04</td>\n",
       "      <td>26.6</td>\n",
       "      <td>22.0</td>\n",
       "      <td>67.0600</td>\n",
       "      <td>41.8600</td>\n",
       "      <td>36.6000</td>\n",
       "      <td>53.0100</td>\n",
       "      <td>115.3650</td>\n",
       "    </tr>\n",
       "    <tr>\n",
       "      <th>209999</th>\n",
       "      <td>2018-02-23 15:16:00</td>\n",
       "      <td>53.250</td>\n",
       "      <td>43.78</td>\n",
       "      <td>208.4250</td>\n",
       "      <td>90.220</td>\n",
       "      <td>117.1400</td>\n",
       "      <td>114.6300</td>\n",
       "      <td>67.0700</td>\n",
       "      <td>56.950</td>\n",
       "      <td>185.5600</td>\n",
       "      <td>...</td>\n",
       "      <td>38.0</td>\n",
       "      <td>65.0</td>\n",
       "      <td>14.04</td>\n",
       "      <td>26.6</td>\n",
       "      <td>22.0</td>\n",
       "      <td>67.0900</td>\n",
       "      <td>41.8800</td>\n",
       "      <td>36.6350</td>\n",
       "      <td>53.0700</td>\n",
       "      <td>115.4200</td>\n",
       "    </tr>\n",
       "  </tbody>\n",
       "</table>\n",
       "<p>10000 rows × 127 columns</p>\n",
       "</div>\n",
       "    <div class=\"colab-df-buttons\">\n",
       "\n",
       "  <div class=\"colab-df-container\">\n",
       "    <button class=\"colab-df-convert\" onclick=\"convertToInteractive('df-f50913b7-d01a-487c-ad1d-22a4f42a3cef')\"\n",
       "            title=\"Convert this dataframe to an interactive table.\"\n",
       "            style=\"display:none;\">\n",
       "\n",
       "  <svg xmlns=\"http://www.w3.org/2000/svg\" height=\"24px\" viewBox=\"0 -960 960 960\">\n",
       "    <path d=\"M120-120v-720h720v720H120Zm60-500h600v-160H180v160Zm220 220h160v-160H400v160Zm0 220h160v-160H400v160ZM180-400h160v-160H180v160Zm440 0h160v-160H620v160ZM180-180h160v-160H180v160Zm440 0h160v-160H620v160Z\"/>\n",
       "  </svg>\n",
       "    </button>\n",
       "\n",
       "  <style>\n",
       "    .colab-df-container {\n",
       "      display:flex;\n",
       "      gap: 12px;\n",
       "    }\n",
       "\n",
       "    .colab-df-convert {\n",
       "      background-color: #E8F0FE;\n",
       "      border: none;\n",
       "      border-radius: 50%;\n",
       "      cursor: pointer;\n",
       "      display: none;\n",
       "      fill: #1967D2;\n",
       "      height: 32px;\n",
       "      padding: 0 0 0 0;\n",
       "      width: 32px;\n",
       "    }\n",
       "\n",
       "    .colab-df-convert:hover {\n",
       "      background-color: #E2EBFA;\n",
       "      box-shadow: 0px 1px 2px rgba(60, 64, 67, 0.3), 0px 1px 3px 1px rgba(60, 64, 67, 0.15);\n",
       "      fill: #174EA6;\n",
       "    }\n",
       "\n",
       "    .colab-df-buttons div {\n",
       "      margin-bottom: 4px;\n",
       "    }\n",
       "\n",
       "    [theme=dark] .colab-df-convert {\n",
       "      background-color: #3B4455;\n",
       "      fill: #D2E3FC;\n",
       "    }\n",
       "\n",
       "    [theme=dark] .colab-df-convert:hover {\n",
       "      background-color: #434B5C;\n",
       "      box-shadow: 0px 1px 3px 1px rgba(0, 0, 0, 0.15);\n",
       "      filter: drop-shadow(0px 1px 2px rgba(0, 0, 0, 0.3));\n",
       "      fill: #FFFFFF;\n",
       "    }\n",
       "  </style>\n",
       "\n",
       "    <script>\n",
       "      const buttonEl =\n",
       "        document.querySelector('#df-f50913b7-d01a-487c-ad1d-22a4f42a3cef button.colab-df-convert');\n",
       "      buttonEl.style.display =\n",
       "        google.colab.kernel.accessAllowed ? 'block' : 'none';\n",
       "\n",
       "      async function convertToInteractive(key) {\n",
       "        const element = document.querySelector('#df-f50913b7-d01a-487c-ad1d-22a4f42a3cef');\n",
       "        const dataTable =\n",
       "          await google.colab.kernel.invokeFunction('convertToInteractive',\n",
       "                                                    [key], {});\n",
       "        if (!dataTable) return;\n",
       "\n",
       "        const docLinkHtml = 'Like what you see? Visit the ' +\n",
       "          '<a target=\"_blank\" href=https://colab.research.google.com/notebooks/data_table.ipynb>data table notebook</a>'\n",
       "          + ' to learn more about interactive tables.';\n",
       "        element.innerHTML = '';\n",
       "        dataTable['output_type'] = 'display_data';\n",
       "        await google.colab.output.renderOutput(dataTable, element);\n",
       "        const docLink = document.createElement('div');\n",
       "        docLink.innerHTML = docLinkHtml;\n",
       "        element.appendChild(docLink);\n",
       "      }\n",
       "    </script>\n",
       "  </div>\n",
       "\n",
       "\n",
       "<div id=\"df-fc525d27-c07e-4bcd-b5fe-3079f23de42e\">\n",
       "  <button class=\"colab-df-quickchart\" onclick=\"quickchart('df-fc525d27-c07e-4bcd-b5fe-3079f23de42e')\"\n",
       "            title=\"Suggest charts\"\n",
       "            style=\"display:none;\">\n",
       "\n",
       "<svg xmlns=\"http://www.w3.org/2000/svg\" height=\"24px\"viewBox=\"0 0 24 24\"\n",
       "     width=\"24px\">\n",
       "    <g>\n",
       "        <path d=\"M19 3H5c-1.1 0-2 .9-2 2v14c0 1.1.9 2 2 2h14c1.1 0 2-.9 2-2V5c0-1.1-.9-2-2-2zM9 17H7v-7h2v7zm4 0h-2V7h2v10zm4 0h-2v-4h2v4z\"/>\n",
       "    </g>\n",
       "</svg>\n",
       "  </button>\n",
       "\n",
       "<style>\n",
       "  .colab-df-quickchart {\n",
       "      --bg-color: #E8F0FE;\n",
       "      --fill-color: #1967D2;\n",
       "      --hover-bg-color: #E2EBFA;\n",
       "      --hover-fill-color: #174EA6;\n",
       "      --disabled-fill-color: #AAA;\n",
       "      --disabled-bg-color: #DDD;\n",
       "  }\n",
       "\n",
       "  [theme=dark] .colab-df-quickchart {\n",
       "      --bg-color: #3B4455;\n",
       "      --fill-color: #D2E3FC;\n",
       "      --hover-bg-color: #434B5C;\n",
       "      --hover-fill-color: #FFFFFF;\n",
       "      --disabled-bg-color: #3B4455;\n",
       "      --disabled-fill-color: #666;\n",
       "  }\n",
       "\n",
       "  .colab-df-quickchart {\n",
       "    background-color: var(--bg-color);\n",
       "    border: none;\n",
       "    border-radius: 50%;\n",
       "    cursor: pointer;\n",
       "    display: none;\n",
       "    fill: var(--fill-color);\n",
       "    height: 32px;\n",
       "    padding: 0;\n",
       "    width: 32px;\n",
       "  }\n",
       "\n",
       "  .colab-df-quickchart:hover {\n",
       "    background-color: var(--hover-bg-color);\n",
       "    box-shadow: 0 1px 2px rgba(60, 64, 67, 0.3), 0 1px 3px 1px rgba(60, 64, 67, 0.15);\n",
       "    fill: var(--button-hover-fill-color);\n",
       "  }\n",
       "\n",
       "  .colab-df-quickchart-complete:disabled,\n",
       "  .colab-df-quickchart-complete:disabled:hover {\n",
       "    background-color: var(--disabled-bg-color);\n",
       "    fill: var(--disabled-fill-color);\n",
       "    box-shadow: none;\n",
       "  }\n",
       "\n",
       "  .colab-df-spinner {\n",
       "    border: 2px solid var(--fill-color);\n",
       "    border-color: transparent;\n",
       "    border-bottom-color: var(--fill-color);\n",
       "    animation:\n",
       "      spin 1s steps(1) infinite;\n",
       "  }\n",
       "\n",
       "  @keyframes spin {\n",
       "    0% {\n",
       "      border-color: transparent;\n",
       "      border-bottom-color: var(--fill-color);\n",
       "      border-left-color: var(--fill-color);\n",
       "    }\n",
       "    20% {\n",
       "      border-color: transparent;\n",
       "      border-left-color: var(--fill-color);\n",
       "      border-top-color: var(--fill-color);\n",
       "    }\n",
       "    30% {\n",
       "      border-color: transparent;\n",
       "      border-left-color: var(--fill-color);\n",
       "      border-top-color: var(--fill-color);\n",
       "      border-right-color: var(--fill-color);\n",
       "    }\n",
       "    40% {\n",
       "      border-color: transparent;\n",
       "      border-right-color: var(--fill-color);\n",
       "      border-top-color: var(--fill-color);\n",
       "    }\n",
       "    60% {\n",
       "      border-color: transparent;\n",
       "      border-right-color: var(--fill-color);\n",
       "    }\n",
       "    80% {\n",
       "      border-color: transparent;\n",
       "      border-right-color: var(--fill-color);\n",
       "      border-bottom-color: var(--fill-color);\n",
       "    }\n",
       "    90% {\n",
       "      border-color: transparent;\n",
       "      border-bottom-color: var(--fill-color);\n",
       "    }\n",
       "  }\n",
       "</style>\n",
       "\n",
       "  <script>\n",
       "    async function quickchart(key) {\n",
       "      const quickchartButtonEl =\n",
       "        document.querySelector('#' + key + ' button');\n",
       "      quickchartButtonEl.disabled = true;  // To prevent multiple clicks.\n",
       "      quickchartButtonEl.classList.add('colab-df-spinner');\n",
       "      try {\n",
       "        const charts = await google.colab.kernel.invokeFunction(\n",
       "            'suggestCharts', [key], {});\n",
       "      } catch (error) {\n",
       "        console.error('Error during call to suggestCharts:', error);\n",
       "      }\n",
       "      quickchartButtonEl.classList.remove('colab-df-spinner');\n",
       "      quickchartButtonEl.classList.add('colab-df-quickchart-complete');\n",
       "    }\n",
       "    (() => {\n",
       "      let quickchartButtonEl =\n",
       "        document.querySelector('#df-fc525d27-c07e-4bcd-b5fe-3079f23de42e button');\n",
       "      quickchartButtonEl.style.display =\n",
       "        google.colab.kernel.accessAllowed ? 'block' : 'none';\n",
       "    })();\n",
       "  </script>\n",
       "</div>\n",
       "\n",
       "    </div>\n",
       "  </div>\n"
      ],
      "text/plain": [
       "                       Date     AAL   AAPL      ADBE     ADI       ADP  \\\n",
       "200000  2018-01-18 10:56:00  58.260  44.89  194.6500  97.770  121.2800   \n",
       "200001  2018-01-18 10:57:00  58.230  44.86  194.6200  97.650  121.2202   \n",
       "200002  2018-01-18 10:58:00  58.235  44.86  194.6625  97.640  121.1750   \n",
       "200003  2018-01-18 10:59:00  58.230  44.85  194.5400  97.620  121.1700   \n",
       "200004  2018-01-18 11:00:00  58.140  44.79  194.4400  97.600  121.2200   \n",
       "...                     ...     ...    ...       ...     ...       ...   \n",
       "209995  2018-02-23 15:12:00  53.290  43.75  208.3200  90.160  117.0600   \n",
       "209996  2018-02-23 15:13:00  53.290  43.78  208.4100  90.215  117.0800   \n",
       "209997  2018-02-23 15:14:00  53.290  43.78  208.3900  90.230  117.0900   \n",
       "209998  2018-02-23 15:15:00  53.260  43.78  208.3700  90.240  117.1000   \n",
       "209999  2018-02-23 15:16:00  53.250  43.78  208.4250  90.220  117.1400   \n",
       "\n",
       "            ADSK     AKAM    AMAT      AMGN  ...  DOCU    ZM   DXCM   PDD  \\\n",
       "200000  113.4200  65.2500  58.000  186.6100  ...  38.0  65.0  14.03  26.6   \n",
       "200001  113.4200  65.2200  57.950  186.8000  ...  38.0  65.0  14.02  26.6   \n",
       "200002  113.3500  65.1400  57.965  186.7900  ...  38.0  65.0  14.04  26.6   \n",
       "200003  113.3200  65.1401  57.970  186.8000  ...  38.0  65.0  14.04  26.6   \n",
       "200004  113.2500  65.1350  57.895  186.7972  ...  38.0  65.0  14.03  26.6   \n",
       "...          ...      ...     ...       ...  ...   ...   ...    ...   ...   \n",
       "209995  114.5000  67.0500  56.910  185.5300  ...  38.0  65.0  14.06  26.6   \n",
       "209996  114.5114  67.0700  56.920  185.6700  ...  38.0  65.0  14.05  26.6   \n",
       "209997  114.5900  67.0500  56.950  185.6100  ...  38.0  65.0  14.05  26.6   \n",
       "209998  114.6100  67.0700  56.930  185.7100  ...  38.0  65.0  14.04  26.6   \n",
       "209999  114.6300  67.0700  56.950  185.5600  ...  38.0  65.0  14.04  26.6   \n",
       "\n",
       "        MRNA      AEP     MTCH     OKTA     TEAM       KDP  \n",
       "200000  22.0  67.7200  31.1100  26.9800  54.7200   95.4500  \n",
       "200001  22.0  67.7700  31.1300  26.9300  54.5000   95.4300  \n",
       "200002  22.0  67.7923  31.1300  26.8900  54.5891   95.3625  \n",
       "200003  22.0  67.7900  31.0600  26.8500  54.5100   95.3625  \n",
       "200004  22.0  67.8100  31.0763  26.8300  54.3300   95.3800  \n",
       "...      ...      ...      ...      ...      ...       ...  \n",
       "209995  22.0  67.1000  41.8800  36.6616  52.9700  115.4050  \n",
       "209996  22.0  67.0800  41.8650  36.6300  52.9878  115.3900  \n",
       "209997  22.0  67.0633  41.8800  36.6200  53.0100  115.3600  \n",
       "209998  22.0  67.0600  41.8600  36.6000  53.0100  115.3650  \n",
       "209999  22.0  67.0900  41.8800  36.6350  53.0700  115.4200  \n",
       "\n",
       "[10000 rows x 127 columns]"
      ]
     },
     "execution_count": 12,
     "metadata": {},
     "output_type": "execute_result"
    }
   ],
   "source": [
    "df_stonks.iloc[200000:210000]"
   ]
  },
  {
   "cell_type": "code",
   "execution_count": null,
   "metadata": {
    "id": "YuJnqa2X6QSL"
   },
   "outputs": [],
   "source": [
    "stonk_names = np.array(df_stonks.columns[1:])\n",
    "# the standard deviation in percentage changes\n",
    "stonk_std = np.zeros(len(stonk_names))"
   ]
  },
  {
   "cell_type": "code",
   "execution_count": null,
   "metadata": {
    "id": "KpS_Ul6iaEnA"
   },
   "outputs": [],
   "source": [
    "for i,stonk in enumerate(stonk_names):\n",
    "  #percentage change in a stonk\n",
    "  stonk_delta = (np.array(df_stonks[stonk])-np.roll(np.array(df_stonks[stonk]),1))/np.array(df_stonks[stonk])\n",
    "  #overall std of percentage changes of the stonk\n",
    "  stonk_std[i] = np.std(stonk_delta)\n",
    "  #rewrite df_stonks with sigma deviation\n",
    "  df_stonks[stonk] = stonk_delta/stonk_std[i]"
   ]
  },
  {
   "cell_type": "code",
   "execution_count": null,
   "metadata": {
    "id": "Bufe2aRncQBz"
   },
   "outputs": [],
   "source": [
    "df_stonks.drop([0],inplace = True)"
   ]
  },
  {
   "cell_type": "code",
   "execution_count": null,
   "metadata": {
    "colab": {
     "base_uri": "https://localhost:8080/",
     "height": 452
    },
    "id": "b-qpLUAjhU2k",
    "outputId": "3e8944b7-19d5-4cab-c357-07ca0a793d6f"
   },
   "outputs": [
    {
     "data": {
      "text/plain": [
       "<matplotlib.image.AxesImage at 0x79c026575210>"
      ]
     },
     "execution_count": 18,
     "metadata": {},
     "output_type": "execute_result"
    },
    {
     "data": {
      "image/png": "[encoded data removed]",
      "text/plain": [
       "<Figure size 640x480 with 1 Axes>"
      ]
     },
     "metadata": {},
     "output_type": "display_data"
    }
   ],
   "source": [
    "idx = 50000\n",
    "image = np.stack([generate_frame(df_stonks.iloc[idx][1:],stonk_names),\n",
    "                  generate_frame(df_stonks.iloc[idx+1][1:],stonk_names),\n",
    "                  generate_frame(df_stonks.iloc[idx+2][1:],stonk_names)]).T\n",
    "plt.imshow(image)"
   ]
  },
  {
   "cell_type": "markdown",
   "metadata": {
    "id": "Wi-rjYkwcurQ"
   },
   "source": [
    "# Tensorflow Training Pipeline"
   ]
  },
  {
   "cell_type": "markdown",
   "metadata": {
    "id": "O3CgNTiezNff"
   },
   "source": [
    "### Converting df to a tensor"
   ]
  },
  {
   "cell_type": "code",
   "execution_count": null,
   "metadata": {
    "id": "o4WjMlf6ZxZ7"
   },
   "outputs": [],
   "source": [
    "df_stonk_tensor = tf.convert_to_tensor(df_stonks[stonk_names])"
   ]
  },
  {
   "cell_type": "markdown",
   "metadata": {
    "id": "EHukp0RN0C5q"
   },
   "source": [
    "### Defining tf functions to generate image of previous 3 min data"
   ]
  },
  {
   "cell_type": "code",
   "execution_count": null,
   "metadata": {
    "id": "Qks-w8OLVVot"
   },
   "outputs": [],
   "source": [
    "batch_size = 32\n",
    "train = tf.data.Dataset.from_tensor_slices((range(4,100000)))\n",
    "val = tf.data.Dataset.from_tensor_slices((range(100000,110000)))\n",
    "\n",
    "\n",
    "train = train.map(generate_image_tf, num_parallel_calls=1)## Setting this to 1. AUTOTUNE freezing computation\n",
    "train = train.batch(batch_size)\n",
    "#train_unet = train_unet.prefetch(tf.data.AUTOTUNE)\n",
    "\n",
    "val = val.map(generate_image_tf, num_parallel_calls=1)## Setting this to 1. AUTOTUNE freezing computation\n",
    "val = val.batch(batch_size)"
   ]
  },
  {
   "cell_type": "code",
   "execution_count": null,
   "metadata": {
    "id": "KUKsnNRkVYrX"
   },
   "outputs": [],
   "source": [
    "for el in val.take(0):\n",
    "  print(el)\n",
    "  plt.imshow((el[0][3]).numpy())"
   ]
  },
  {
   "cell_type": "markdown",
   "metadata": {
    "id": "uKXUi2s6zVbi"
   },
   "source": [
    "### EfficientNet model"
   ]
  },
  {
   "cell_type": "code",
   "execution_count": null,
   "metadata": {
    "id": "xRAeCH9GjU6R"
   },
   "outputs": [],
   "source": [
    "preprocess_input = tf.keras.applications.efficientnet.preprocess_input\n",
    "\n",
    "batch_size = 32\n",
    "\n",
    "size = 126\n",
    "\n",
    "IMG_SIZE = (size,size)\n"
   ]
  },
  {
   "cell_type": "markdown",
   "metadata": {
    "id": "ibJ_MW_YzqwH"
   },
   "source": [
    "### Training tfrecords pipeline"
   ]
  },
  {
   "cell_type": "code",
   "execution_count": null,
   "metadata": {
    "id": "jfX_pr3cm6Ts"
   },
   "outputs": [],
   "source": [
    "batch_size = 32\n",
    "train = tf.data.Dataset.from_tensor_slices((range(4,100000)))\n",
    "val = tf.data.Dataset.from_tensor_slices((range(100000,110000)))\n",
    "\n",
    "\n",
    "train = train.map(generate_image_tf, num_parallel_calls=1)## Setting this to 1. AUTOTUNE freezing computation\n",
    "train = train.batch(batch_size)\n",
    "#train_unet = train_unet.prefetch(tf.data.AUTOTUNE)\n",
    "\n",
    "val = val.map(generate_image_tf, num_parallel_calls=1)## Setting this to 1. AUTOTUNE freezing computation\n",
    "val = val.batch(batch_size)"
   ]
  },
  {
   "cell_type": "code",
   "execution_count": null,
   "metadata": {
    "colab": {
     "base_uri": "https://localhost:8080/"
    },
    "id": "PtNMbRgD2pfF",
    "outputId": "eb572263-80c2-477b-fb7a-a2b3a39ea715"
   },
   "outputs": [
    {
     "data": {
      "text/plain": [
       "<_TakeDataset element_spec=(TensorSpec(shape=(None, 126, 126, 3), dtype=tf.float64, name=None), (TensorSpec(shape=(None,), dtype=tf.float64, name=None), TensorSpec(shape=(None,), dtype=tf.float64, name=None)))>"
      ]
     },
     "execution_count": 15,
     "metadata": {},
     "output_type": "execute_result"
    }
   ],
   "source": [
    "train.take(1)"
   ]
  },
  {
   "cell_type": "code",
   "execution_count": null,
   "metadata": {
    "colab": {
     "base_uri": "https://localhost:8080/"
    },
    "id": "w2bJPK2WrPcz",
    "outputId": "e7587a19-4563-43de-e0b7-7e7a9d7a4191"
   },
   "outputs": [
    {
     "name": "stdout",
     "output_type": "stream",
     "text": [
      "Downloading data from https://storage.googleapis.com/keras-applications/efficientnetb7_notop.h5\n",
      "258076736/258076736 [==============================] - 13s 0us/step\n"
     ]
    }
   ],
   "source": [
    "stonk_classifier = G2_classifier(image_shape=(size,size))\n",
    "stonk_classifier.compile(optimizer=tf.keras.optimizers.Adam(learning_rate=0.001),\n",
    "              #loss=tf.keras.losses.BinaryCrossentropy(from_logits=True),\n",
    "              loss=[tf.keras.losses.BinaryCrossentropy(), tf.keras.losses.MeanAbsoluteError()],\n",
    "              loss_weights = [1, 0],\n",
    "              metrics=['AUC','accuracy'])\n"
   ]
  },
  {
   "cell_type": "code",
   "execution_count": null,
   "metadata": {
    "id": "WsfrECxr4pmj"
   },
   "outputs": [],
   "source": [
    "# stonk_classifier.compile(optimizer=tf.keras.optimizers.Adam(learning_rate=0.001),\n",
    "#               loss=tf.keras.losses.BinaryCrossentropy(from_logits=True),\n",
    "#               loss=tf.keras.losses.BinaryCrossentropy(),\n",
    "#               metrics=['AUC','accuracy'])"
   ]
  },
  {
   "cell_type": "code",
   "execution_count": null,
   "metadata": {
    "colab": {
     "base_uri": "https://localhost:8080/"
    },
    "id": "6Un8wzA_sovt",
    "outputId": "415b66ba-a4b8-447d-a174-78770f9a601b"
   },
   "outputs": [
    {
     "name": "stdout",
     "output_type": "stream",
     "text": [
      "Epoch 1/5\n",
      "3125/3125 [==============================] - 585s 176ms/step - loss: 0.6461 - dense_3_loss: 0.6461 - dense_3_1_loss: 0.3217 - dense_3_auc: 0.5217 - dense_3_accuracy: 0.6663 - dense_3_1_auc_1: 0.5381 - dense_3_1_accuracy: 0.3536 - val_loss: 0.5792 - val_dense_3_loss: 0.5792 - val_dense_3_1_loss: 0.2630 - val_dense_3_auc: 0.5615 - val_dense_3_accuracy: 0.7315 - val_dense_3_1_auc_1: 0.5932 - val_dense_3_1_accuracy: 0.4779\n",
      "Epoch 2/5\n",
      "3125/3125 [==============================] - 487s 156ms/step - loss: 0.6428 - dense_3_loss: 0.6428 - dense_3_1_loss: 0.3208 - dense_3_auc: 0.5249 - dense_3_accuracy: 0.6702 - dense_3_1_auc_1: 0.5459 - dense_3_1_accuracy: 0.3576 - val_loss: 0.5787 - val_dense_3_loss: 0.5787 - val_dense_3_1_loss: 0.2739 - val_dense_3_auc: 0.5633 - val_dense_3_accuracy: 0.7311 - val_dense_3_1_auc_1: 0.5936 - val_dense_3_1_accuracy: 0.4774\n",
      "Epoch 3/5\n",
      "3125/3125 [==============================] - 490s 157ms/step - loss: 0.6420 - dense_3_loss: 0.6420 - dense_3_1_loss: 0.3206 - dense_3_auc: 0.5265 - dense_3_accuracy: 0.6709 - dense_3_1_auc_1: 0.5472 - dense_3_1_accuracy: 0.3582 - val_loss: 0.5788 - val_dense_3_loss: 0.5788 - val_dense_3_1_loss: 0.2763 - val_dense_3_auc: 0.5609 - val_dense_3_accuracy: 0.7310 - val_dense_3_1_auc_1: 0.5959 - val_dense_3_1_accuracy: 0.4773\n",
      "Epoch 4/5\n",
      "3125/3125 [==============================] - 487s 156ms/step - loss: 0.6410 - dense_3_loss: 0.6410 - dense_3_1_loss: 0.3206 - dense_3_auc: 0.5284 - dense_3_accuracy: 0.6710 - dense_3_1_auc_1: 0.5480 - dense_3_1_accuracy: 0.3589 - val_loss: 0.5789 - val_dense_3_loss: 0.5789 - val_dense_3_1_loss: 0.2816 - val_dense_3_auc: 0.5606 - val_dense_3_accuracy: 0.7309 - val_dense_3_1_auc_1: 0.5954 - val_dense_3_1_accuracy: 0.4772\n",
      "Epoch 5/5\n",
      "3125/3125 [==============================] - 525s 168ms/step - loss: 0.6416 - dense_3_loss: 0.6416 - dense_3_1_loss: 0.3206 - dense_3_auc: 0.5275 - dense_3_accuracy: 0.6708 - dense_3_1_auc_1: 0.5485 - dense_3_1_accuracy: 0.3582 - val_loss: 0.5786 - val_dense_3_loss: 0.5786 - val_dense_3_1_loss: 0.2708 - val_dense_3_auc: 0.5654 - val_dense_3_accuracy: 0.7310 - val_dense_3_1_auc_1: 0.5963 - val_dense_3_1_accuracy: 0.4773\n"
     ]
    },
    {
     "data": {
      "text/plain": [
       "<keras.src.callbacks.History at 0x7ff4ab427d60>"
      ]
     },
     "execution_count": 51,
     "metadata": {},
     "output_type": "execute_result"
    }
   ],
   "source": [
    "# # Trained total for 8 epochs\n",
    "stonk_classifier.fit(x = train,validation_data=val,epochs = 5)"
   ]
  },
  {
   "cell_type": "code",
   "execution_count": null,
   "metadata": {
    "colab": {
     "base_uri": "https://localhost:8080/"
    },
    "id": "VeLqDVwO2Vnv",
    "outputId": "4c9ba283-cd0b-4e92-b7a5-a20202c6dcf0"
   },
   "outputs": [
    {
     "name": "stdout",
     "output_type": "stream",
     "text": [
      "157/157 [==============================] - 26s 131ms/step\n"
     ]
    }
   ],
   "source": [
    "# predict = stonk_classifier.predict(val)"
   ]
  },
  {
   "cell_type": "code",
   "execution_count": null,
   "metadata": {
    "colab": {
     "base_uri": "https://localhost:8080/",
     "height": 1000,
     "referenced_widgets": [
      "3f308feeecfd45449109f6b6f476908a",
      "ea414feec31d47eebb4d6f92e1a036f0",
      "ee172b85d0c44e6d8c3f5b1e62e43b45",
      "7731a2c14a2a42518a256063dd787e28",
      "1316d9fc9ffd4fa99032e7dcc740d5f6",
      "261e54b410a74f17bd9fed519c1545c5",
      "fb7f323b65444c7887d1fd23b33d8acb",
      "8e2e5e3dbb474c94860b8c6e811386cc"
     ]
    },
    "id": "_xmLLw6Uosm7",
    "outputId": "0fedc2fb-c7a5-4b17-908f-aaff270b9a8b"
   },
   "outputs": [
    {
     "name": "stderr",
     "output_type": "stream",
     "text": [
      "\u001b[34m\u001b[1mwandb\u001b[0m: Currently logged in as: \u001b[33maghalsa\u001b[0m. Use \u001b[1m`wandb login --relogin`\u001b[0m to force relogin\n"
     ]
    },
    {
     "data": {
      "text/html": [
       "Tracking run with wandb version 0.16.1"
      ],
      "text/plain": [
       "<IPython.core.display.HTML object>"
      ]
     },
     "metadata": {},
     "output_type": "display_data"
    },
    {
     "data": {
      "text/html": [
       "Run data is saved locally in <code>/content/wandb/run-20231231_191428-vtwc9p59</code>"
      ],
      "text/plain": [
       "<IPython.core.display.HTML object>"
      ]
     },
     "metadata": {},
     "output_type": "display_data"
    },
    {
     "data": {
      "text/html": [
       "Syncing run <strong><a href='https://wandb.ai/aghalsa/stonks_effnet_nsize/runs/vtwc9p59' target=\"_blank\">vocal-star-32</a></strong> to <a href='https://wandb.ai/aghalsa/stonks_effnet_nsize' target=\"_blank\">Weights & Biases</a> (<a href='https://wandb.me/run' target=\"_blank\">docs</a>)<br/>"
      ],
      "text/plain": [
       "<IPython.core.display.HTML object>"
      ]
     },
     "metadata": {},
     "output_type": "display_data"
    },
    {
     "data": {
      "text/html": [
       " View project at <a href='https://wandb.ai/aghalsa/stonks_effnet_nsize' target=\"_blank\">https://wandb.ai/aghalsa/stonks_effnet_nsize</a>"
      ],
      "text/plain": [
       "<IPython.core.display.HTML object>"
      ]
     },
     "metadata": {},
     "output_type": "display_data"
    },
    {
     "data": {
      "text/html": [
       " View run at <a href='https://wandb.ai/aghalsa/stonks_effnet_nsize/runs/vtwc9p59' target=\"_blank\">https://wandb.ai/aghalsa/stonks_effnet_nsize/runs/vtwc9p59</a>"
      ],
      "text/plain": [
       "<IPython.core.display.HTML object>"
      ]
     },
     "metadata": {},
     "output_type": "display_data"
    },
    {
     "name": "stderr",
     "output_type": "stream",
     "text": [
      "\u001b[34m\u001b[1mwandb\u001b[0m: \u001b[33mWARNING\u001b[0m The save_model argument by default saves the model in the HDF5 format that cannot save custom objects like subclassed models and custom layers. This behavior will be deprecated in a future release in favor of the SavedModel format. Meanwhile, the HDF5 model is saved as W&B files and the SavedModel as W&B Artifacts.\n",
      "\u001b[34m\u001b[1mwandb\u001b[0m: \u001b[33mWARNING\u001b[0m When using `save_best_only`, ensure that the `filepath` argument contains formatting placeholders like `{epoch:02d}` or `{batch:02d}`. This ensures correct interpretation of the logged artifacts.\n"
     ]
    },
    {
     "name": "stdout",
     "output_type": "stream",
     "text": [
      "Downloading data from https://storage.googleapis.com/keras-applications/efficientnetb7_notop.h5\n",
      "258076736/258076736 [==============================] - 9s 0us/step\n"
     ]
    },
    {
     "name": "stderr",
     "output_type": "stream",
     "text": [
      "\u001b[34m\u001b[1mwandb\u001b[0m: \u001b[33mWARNING\u001b[0m WandbCallback is unable to read validation_data from trainer and therefore cannot log validation data. Ensure Keras is properly patched by calling `from wandb.keras import WandbCallback` at the top of your script.\n"
     ]
    },
    {
     "name": "stdout",
     "output_type": "stream",
     "text": [
      "Epoch 1/30\n",
      "3125/3125 [==============================] - ETA: 0s - loss: 0.6369 - dense_loss: 0.6369 - dense_1_loss: 0.3194 - dense_auc: 0.5146 - dense_accuracy: 0.6768 - dense_precision: 0.3521 - dense_1_auc_1: 0.5313 - dense_1_accuracy: 0.3654 - dense_1_precision_1: 0.7116"
     ]
    },
    {
     "name": "stderr",
     "output_type": "stream",
     "text": [
      "/usr/local/lib/python3.10/dist-packages/keras/src/engine/training.py:3103: UserWarning: You are saving your model as an HDF5 file via `model.save()`. This file format is considered legacy. We recommend using instead the native Keras format, e.g. `model.save('my_model.keras')`.\n",
      "  saving_api.save_model(\n"
     ]
    },
    {
     "name": "stdout",
     "output_type": "stream",
     "text": [
      "\b\b\b\b\b\b\b\b\b\b\b\b\b\b\b\b\b\b\b\b\b\b\b\b\b\b\b\b\b\b\b\b\b\b\b\b\b\b\b\b\b\b\b\b\b\b\b\b\b\b\b\b\b\b\b\b\b\b\b\b\b\b\b\b\b\b\b\b\b\b\b\b\b\b\b\b\b\b\b\b\b\b\b\b\b\b\b\b\b\b\b\b\b\b\b\b\b\b\b\b\b\b\b\b\b\b\b\b\b\b\b\b\b\b\b\b\b\b\b\b\b\b\b\b\b\b\b\b\b\b\b\b\b\b\b\b\b\b\b\b\b\b\b\b\b\b\b\b\b\b\b\b\b\b\b\b\b\b\b\b\b\b\b\b\b\b\b\b\b\b\b\b\b\b\b\b\b\b\b\b\b\b\b\b\b\b\b\b\b\b\b\b\b\b\b\b\b\b\b\b\b\b\b\b\b\b\b\b\b\b\b\b\b\b\b\b\b\b\b\b\b\b\b\b\b\b\b\b\b\b\b\b\b\b\b\b\b\b\b\b\b\b\b\b\b\b\b\b\b\b\b\b\b\b\b\b\b\b\b\b\b\b\b\r",
      "3125/3125 [==============================] - 493s 148ms/step - loss: 0.6369 - dense_loss: 0.6369 - dense_1_loss: 0.3194 - dense_auc: 0.5146 - dense_accuracy: 0.6768 - dense_precision: 0.3521 - dense_1_auc_1: 0.5313 - dense_1_accuracy: 0.3654 - dense_1_precision_1: 0.7116 - val_loss: 0.5838 - val_dense_loss: 0.5838 - val_dense_1_loss: 0.2694 - val_dense_auc: 0.5061 - val_dense_accuracy: 0.7293 - val_dense_precision: 0.0000e+00 - val_dense_1_auc_1: 0.5056 - val_dense_1_accuracy: 0.4781 - val_dense_1_precision_1: 0.0000e+00\n",
      "Epoch 2/30\n",
      "3125/3125 [==============================] - 458s 146ms/step - loss: 0.6333 - dense_loss: 0.6333 - dense_1_loss: 0.3208 - dense_auc: 0.5237 - dense_accuracy: 0.6782 - dense_precision: 0.3675 - dense_1_auc_1: 0.5439 - dense_1_accuracy: 0.3659 - dense_1_precision_1: 0.7088 - val_loss: 0.5834 - val_dense_loss: 0.5834 - val_dense_1_loss: 0.2715 - val_dense_auc: 0.5344 - val_dense_accuracy: 0.7293 - val_dense_precision: 0.0000e+00 - val_dense_1_auc_1: 0.5465 - val_dense_1_accuracy: 0.4781 - val_dense_1_precision_1: 0.0000e+00\n",
      "Epoch 3/30\n",
      "3125/3125 [==============================] - 455s 145ms/step - loss: 0.6327 - dense_loss: 0.6327 - dense_1_loss: 0.3207 - dense_auc: 0.5224 - dense_accuracy: 0.6792 - dense_precision: 0.3713 - dense_1_auc_1: 0.5411 - dense_1_accuracy: 0.3674 - dense_1_precision_1: 0.7326 - val_loss: 0.5836 - val_dense_loss: 0.5836 - val_dense_1_loss: 0.2865 - val_dense_auc: 0.5430 - val_dense_accuracy: 0.7293 - val_dense_precision: 0.0000e+00 - val_dense_1_auc_1: 0.5574 - val_dense_1_accuracy: 0.4781 - val_dense_1_precision_1: 0.0000e+00\n",
      "Epoch 4/30\n",
      "3125/3125 [==============================] - 457s 145ms/step - loss: 0.6310 - dense_loss: 0.6310 - dense_1_loss: 0.3206 - dense_auc: 0.5251 - dense_accuracy: 0.6799 - dense_precision: 0.3785 - dense_1_auc_1: 0.5482 - dense_1_accuracy: 0.3683 - dense_1_precision_1: 0.7570 - val_loss: 0.5830 - val_dense_loss: 0.5830 - val_dense_1_loss: 0.2627 - val_dense_auc: 0.5551 - val_dense_accuracy: 0.7293 - val_dense_precision: 0.0000e+00 - val_dense_1_auc_1: 0.5815 - val_dense_1_accuracy: 0.4781 - val_dense_1_precision_1: 0.0000e+00\n",
      "Epoch 5/30\n",
      "3125/3125 [==============================] - 456s 145ms/step - loss: 0.6310 - dense_loss: 0.6310 - dense_1_loss: 0.3205 - dense_auc: 0.5233 - dense_accuracy: 0.6807 - dense_precision: 0.3850 - dense_1_auc_1: 0.5467 - dense_1_accuracy: 0.3691 - dense_1_precision_1: 0.7731 - val_loss: 0.5829 - val_dense_loss: 0.5829 - val_dense_1_loss: 0.2601 - val_dense_auc: 0.5335 - val_dense_accuracy: 0.7293 - val_dense_precision: 0.0000e+00 - val_dense_1_auc_1: 0.5462 - val_dense_1_accuracy: 0.4781 - val_dense_1_precision_1: 0.0000e+00\n",
      "Epoch 6/30\n",
      "3125/3125 [==============================] - 456s 145ms/step - loss: 0.6294 - dense_loss: 0.6294 - dense_1_loss: 0.3202 - dense_auc: 0.5264 - dense_accuracy: 0.6815 - dense_precision: 0.3956 - dense_1_auc_1: 0.5496 - dense_1_accuracy: 0.3697 - dense_1_precision_1: 0.7734 - val_loss: 0.5828 - val_dense_loss: 0.5828 - val_dense_1_loss: 0.2855 - val_dense_auc: 0.5422 - val_dense_accuracy: 0.7293 - val_dense_precision: 0.0000e+00 - val_dense_1_auc_1: 0.5563 - val_dense_1_accuracy: 0.4781 - val_dense_1_precision_1: 0.0000e+00\n",
      "Epoch 7/30\n",
      "3125/3125 [==============================] - 456s 145ms/step - loss: 0.6285 - dense_loss: 0.6285 - dense_1_loss: 0.3204 - dense_auc: 0.5287 - dense_accuracy: 0.6815 - dense_precision: 0.3868 - dense_1_auc_1: 0.5526 - dense_1_accuracy: 0.3701 - dense_1_precision_1: 0.7913 - val_loss: 0.5826 - val_dense_loss: 0.5826 - val_dense_1_loss: 0.2857 - val_dense_auc: 0.5436 - val_dense_accuracy: 0.7293 - val_dense_precision: 0.0000e+00 - val_dense_1_auc_1: 0.5584 - val_dense_1_accuracy: 0.4781 - val_dense_1_precision_1: 0.0000e+00\n",
      "Epoch 8/30\n",
      "3125/3125 [==============================] - 455s 145ms/step - loss: 0.6272 - dense_loss: 0.6272 - dense_1_loss: 0.3200 - dense_auc: 0.5322 - dense_accuracy: 0.6820 - dense_precision: 0.3919 - dense_1_auc_1: 0.5571 - dense_1_accuracy: 0.3708 - dense_1_precision_1: 0.8196 - val_loss: 0.5827 - val_dense_loss: 0.5827 - val_dense_1_loss: 0.2900 - val_dense_auc: 0.5441 - val_dense_accuracy: 0.7293 - val_dense_precision: 0.0000e+00 - val_dense_1_auc_1: 0.5606 - val_dense_1_accuracy: 0.4781 - val_dense_1_precision_1: 0.0000e+00\n",
      "Epoch 9/30\n",
      "3125/3125 [==============================] - 457s 145ms/step - loss: 0.6281 - dense_loss: 0.6281 - dense_1_loss: 0.3202 - dense_auc: 0.5267 - dense_accuracy: 0.6818 - dense_precision: 0.3667 - dense_1_auc_1: 0.5557 - dense_1_accuracy: 0.3706 - dense_1_precision_1: 0.7751 - val_loss: 0.5823 - val_dense_loss: 0.5823 - val_dense_1_loss: 0.2872 - val_dense_auc: 0.5500 - val_dense_accuracy: 0.7293 - val_dense_precision: 0.0000e+00 - val_dense_1_auc_1: 0.5727 - val_dense_1_accuracy: 0.4781 - val_dense_1_precision_1: 0.0000e+00\n",
      "Epoch 10/30\n",
      "3125/3125 [==============================] - 456s 145ms/step - loss: 0.6259 - dense_loss: 0.6259 - dense_1_loss: 0.3199 - dense_auc: 0.5343 - dense_accuracy: 0.6819 - dense_precision: 0.3889 - dense_1_auc_1: 0.5608 - dense_1_accuracy: 0.3708 - dense_1_precision_1: 0.8223 - val_loss: 0.5828 - val_dense_loss: 0.5828 - val_dense_1_loss: 0.2935 - val_dense_auc: 0.5571 - val_dense_accuracy: 0.7293 - val_dense_precision: 0.0000e+00 - val_dense_1_auc_1: 0.5839 - val_dense_1_accuracy: 0.4781 - val_dense_1_precision_1: 0.0000e+00\n",
      "Epoch 11/30\n",
      "3125/3125 [==============================] - 455s 145ms/step - loss: 0.6255 - dense_loss: 0.6255 - dense_1_loss: 0.3200 - dense_auc: 0.5351 - dense_accuracy: 0.6830 - dense_precision: 0.4233 - dense_1_auc_1: 0.5639 - dense_1_accuracy: 0.3713 - dense_1_precision_1: 0.8444 - val_loss: 0.5825 - val_dense_loss: 0.5825 - val_dense_1_loss: 0.2925 - val_dense_auc: 0.5518 - val_dense_accuracy: 0.7293 - val_dense_precision: 0.0000e+00 - val_dense_1_auc_1: 0.5743 - val_dense_1_accuracy: 0.4781 - val_dense_1_precision_1: 0.0000e+00\n",
      "Epoch 12/30\n",
      "3125/3125 [==============================] - 456s 145ms/step - loss: 0.6251 - dense_loss: 0.6251 - dense_1_loss: 0.3201 - dense_auc: 0.5365 - dense_accuracy: 0.6826 - dense_precision: 0.4036 - dense_1_auc_1: 0.5683 - dense_1_accuracy: 0.3712 - dense_1_precision_1: 0.8220 - val_loss: 0.5814 - val_dense_loss: 0.5814 - val_dense_1_loss: 0.2785 - val_dense_auc: 0.5555 - val_dense_accuracy: 0.7293 - val_dense_precision: 0.0000e+00 - val_dense_1_auc_1: 0.5819 - val_dense_1_accuracy: 0.4781 - val_dense_1_precision_1: 0.0000e+00\n",
      "Epoch 13/30\n",
      "3125/3125 [==============================] - 456s 145ms/step - loss: 0.6249 - dense_loss: 0.6249 - dense_1_loss: 0.3200 - dense_auc: 0.5359 - dense_accuracy: 0.6831 - dense_precision: 0.4212 - dense_1_auc_1: 0.5650 - dense_1_accuracy: 0.3714 - dense_1_precision_1: 0.8337 - val_loss: 0.5812 - val_dense_loss: 0.5812 - val_dense_1_loss: 0.2682 - val_dense_auc: 0.5542 - val_dense_accuracy: 0.7293 - val_dense_precision: 0.0000e+00 - val_dense_1_auc_1: 0.5794 - val_dense_1_accuracy: 0.4781 - val_dense_1_precision_1: 0.0000e+00\n",
      "Epoch 14/30\n",
      "3125/3125 [==============================] - 455s 145ms/step - loss: 0.6249 - dense_loss: 0.6249 - dense_1_loss: 0.3198 - dense_auc: 0.5355 - dense_accuracy: 0.6832 - dense_precision: 0.4279 - dense_1_auc_1: 0.5667 - dense_1_accuracy: 0.3717 - dense_1_precision_1: 0.8767 - val_loss: 0.5816 - val_dense_loss: 0.5816 - val_dense_1_loss: 0.2859 - val_dense_auc: 0.5568 - val_dense_accuracy: 0.7293 - val_dense_precision: 0.5000 - val_dense_1_auc_1: 0.5879 - val_dense_1_accuracy: 0.4781 - val_dense_1_precision_1: 1.0000\n",
      "Epoch 15/30\n",
      "3125/3125 [==============================] - 456s 145ms/step - loss: 0.6245 - dense_loss: 0.6245 - dense_1_loss: 0.3200 - dense_auc: 0.5358 - dense_accuracy: 0.6831 - dense_precision: 0.4216 - dense_1_auc_1: 0.5706 - dense_1_accuracy: 0.3716 - dense_1_precision_1: 0.8607 - val_loss: 0.5815 - val_dense_loss: 0.5815 - val_dense_1_loss: 0.2580 - val_dense_auc: 0.5519 - val_dense_accuracy: 0.7293 - val_dense_precision: 0.0000e+00 - val_dense_1_auc_1: 0.5766 - val_dense_1_accuracy: 0.4781 - val_dense_1_precision_1: 0.0000e+00\n",
      "Epoch 16/30\n",
      "3125/3125 [==============================] - 456s 145ms/step - loss: 0.6238 - dense_loss: 0.6238 - dense_1_loss: 0.3198 - dense_auc: 0.5385 - dense_accuracy: 0.6835 - dense_precision: 0.4435 - dense_1_auc_1: 0.5694 - dense_1_accuracy: 0.3718 - dense_1_precision_1: 0.8694 - val_loss: 0.5820 - val_dense_loss: 0.5820 - val_dense_1_loss: 0.2517 - val_dense_auc: 0.5476 - val_dense_accuracy: 0.7293 - val_dense_precision: 0.0000e+00 - val_dense_1_auc_1: 0.5672 - val_dense_1_accuracy: 0.4781 - val_dense_1_precision_1: 0.0000e+00\n",
      "Epoch 17/30\n",
      "3125/3125 [==============================] - 454s 145ms/step - loss: 0.6237 - dense_loss: 0.6237 - dense_1_loss: 0.3195 - dense_auc: 0.5390 - dense_accuracy: 0.6832 - dense_precision: 0.4361 - dense_1_auc_1: 0.5704 - dense_1_accuracy: 0.3716 - dense_1_precision_1: 0.8688 - val_loss: 0.5819 - val_dense_loss: 0.5819 - val_dense_1_loss: 0.2915 - val_dense_auc: 0.5575 - val_dense_accuracy: 0.7298 - val_dense_precision: 0.7273 - val_dense_1_auc_1: 0.5883 - val_dense_1_accuracy: 0.4780 - val_dense_1_precision_1: 0.9091\n",
      "Epoch 18/30\n",
      "3125/3125 [==============================] - 455s 145ms/step - loss: 0.6231 - dense_loss: 0.6231 - dense_1_loss: 0.3197 - dense_auc: 0.5407 - dense_accuracy: 0.6832 - dense_precision: 0.4324 - dense_1_auc_1: 0.5781 - dense_1_accuracy: 0.3716 - dense_1_precision_1: 0.8660 - val_loss: 0.5819 - val_dense_loss: 0.5819 - val_dense_1_loss: 0.2921 - val_dense_auc: 0.5493 - val_dense_accuracy: 0.7299 - val_dense_precision: 0.7500 - val_dense_1_auc_1: 0.5723 - val_dense_1_accuracy: 0.4780 - val_dense_1_precision_1: 0.9167\n",
      "Epoch 19/30\n",
      "3125/3125 [==============================] - 457s 145ms/step - loss: 0.6234 - dense_loss: 0.6234 - dense_1_loss: 0.3197 - dense_auc: 0.5386 - dense_accuracy: 0.6834 - dense_precision: 0.4383 - dense_1_auc_1: 0.5757 - dense_1_accuracy: 0.3718 - dense_1_precision_1: 0.8753 - val_loss: 0.5808 - val_dense_loss: 0.5808 - val_dense_1_loss: 0.2744 - val_dense_auc: 0.5573 - val_dense_accuracy: 0.7295 - val_dense_precision: 0.7500 - val_dense_1_auc_1: 0.5859 - val_dense_1_accuracy: 0.4781 - val_dense_1_precision_1: 1.0000\n",
      "Epoch 20/30\n",
      "3125/3125 [==============================] - 455s 145ms/step - loss: 0.6223 - dense_loss: 0.6223 - dense_1_loss: 0.3196 - dense_auc: 0.5448 - dense_accuracy: 0.6836 - dense_precision: 0.4588 - dense_1_auc_1: 0.5807 - dense_1_accuracy: 0.3719 - dense_1_precision_1: 0.8976 - val_loss: 0.5815 - val_dense_loss: 0.5815 - val_dense_1_loss: 0.2895 - val_dense_auc: 0.5575 - val_dense_accuracy: 0.7303 - val_dense_precision: 0.8125 - val_dense_1_auc_1: 0.5859 - val_dense_1_accuracy: 0.4780 - val_dense_1_precision_1: 0.9375\n",
      "Epoch 21/30\n",
      "3125/3125 [==============================] - 455s 145ms/step - loss: 0.6223 - dense_loss: 0.6223 - dense_1_loss: 0.3194 - dense_auc: 0.5442 - dense_accuracy: 0.6833 - dense_precision: 0.4359 - dense_1_auc_1: 0.5788 - dense_1_accuracy: 0.3715 - dense_1_precision_1: 0.8563 - val_loss: 0.5816 - val_dense_loss: 0.5816 - val_dense_1_loss: 0.2907 - val_dense_auc: 0.5617 - val_dense_accuracy: 0.7302 - val_dense_precision: 0.7647 - val_dense_1_auc_1: 0.5915 - val_dense_1_accuracy: 0.4780 - val_dense_1_precision_1: 0.9412\n",
      "Epoch 22/30\n",
      "3125/3125 [==============================] - 455s 145ms/step - loss: 0.6220 - dense_loss: 0.6220 - dense_1_loss: 0.3197 - dense_auc: 0.5450 - dense_accuracy: 0.6829 - dense_precision: 0.4144 - dense_1_auc_1: 0.5793 - dense_1_accuracy: 0.3715 - dense_1_precision_1: 0.8545 - val_loss: 0.5817 - val_dense_loss: 0.5817 - val_dense_1_loss: 0.2924 - val_dense_auc: 0.5545 - val_dense_accuracy: 0.7304 - val_dense_precision: 0.7895 - val_dense_1_auc_1: 0.5803 - val_dense_1_accuracy: 0.4780 - val_dense_1_precision_1: 0.9474\n",
      "Epoch 23/30\n",
      "3125/3125 [==============================] - 456s 145ms/step - loss: 0.6217 - dense_loss: 0.6217 - dense_1_loss: 0.3197 - dense_auc: 0.5466 - dense_accuracy: 0.6837 - dense_precision: 0.4597 - dense_1_auc_1: 0.5816 - dense_1_accuracy: 0.3719 - dense_1_precision_1: 0.8941 - val_loss: 0.5806 - val_dense_loss: 0.5806 - val_dense_1_loss: 0.2673 - val_dense_auc: 0.5511 - val_dense_accuracy: 0.7296 - val_dense_precision: 0.7143 - val_dense_1_auc_1: 0.5747 - val_dense_1_accuracy: 0.4780 - val_dense_1_precision_1: 0.8571\n",
      "Epoch 24/30\n",
      "3125/3125 [==============================] - 456s 145ms/step - loss: 0.6216 - dense_loss: 0.6216 - dense_1_loss: 0.3196 - dense_auc: 0.5474 - dense_accuracy: 0.6834 - dense_precision: 0.4440 - dense_1_auc_1: 0.5840 - dense_1_accuracy: 0.3718 - dense_1_precision_1: 0.8805 - val_loss: 0.5805 - val_dense_loss: 0.5805 - val_dense_1_loss: 0.2737 - val_dense_auc: 0.5547 - val_dense_accuracy: 0.7299 - val_dense_precision: 0.7500 - val_dense_1_auc_1: 0.5802 - val_dense_1_accuracy: 0.4780 - val_dense_1_precision_1: 0.9167\n",
      "Epoch 25/30\n",
      "3125/3125 [==============================] - 455s 145ms/step - loss: 0.6220 - dense_loss: 0.6220 - dense_1_loss: 0.3193 - dense_auc: 0.5442 - dense_accuracy: 0.6831 - dense_precision: 0.4190 - dense_1_auc_1: 0.5825 - dense_1_accuracy: 0.3718 - dense_1_precision_1: 0.8835 - val_loss: 0.5830 - val_dense_loss: 0.5830 - val_dense_1_loss: 0.3033 - val_dense_auc: 0.5520 - val_dense_accuracy: 0.7308 - val_dense_precision: 0.7586 - val_dense_1_auc_1: 0.5758 - val_dense_1_accuracy: 0.4779 - val_dense_1_precision_1: 0.9310\n",
      "Epoch 26/30\n",
      "3125/3125 [==============================] - 455s 145ms/step - loss: 0.6221 - dense_loss: 0.6221 - dense_1_loss: 0.3196 - dense_auc: 0.5440 - dense_accuracy: 0.6834 - dense_precision: 0.4442 - dense_1_auc_1: 0.5847 - dense_1_accuracy: 0.3717 - dense_1_precision_1: 0.8825 - val_loss: 0.5829 - val_dense_loss: 0.5829 - val_dense_1_loss: 0.3031 - val_dense_auc: 0.5527 - val_dense_accuracy: 0.7307 - val_dense_precision: 0.7333 - val_dense_1_auc_1: 0.5763 - val_dense_1_accuracy: 0.4779 - val_dense_1_precision_1: 0.9333\n",
      "Epoch 27/30\n",
      "3125/3125 [==============================] - 454s 145ms/step - loss: 0.6214 - dense_loss: 0.6214 - dense_1_loss: 0.3195 - dense_auc: 0.5484 - dense_accuracy: 0.6834 - dense_precision: 0.4401 - dense_1_auc_1: 0.5864 - dense_1_accuracy: 0.3717 - dense_1_precision_1: 0.8791 - val_loss: 0.5813 - val_dense_loss: 0.5813 - val_dense_1_loss: 0.2896 - val_dense_auc: 0.5582 - val_dense_accuracy: 0.7307 - val_dense_precision: 0.8182 - val_dense_1_auc_1: 0.5857 - val_dense_1_accuracy: 0.4780 - val_dense_1_precision_1: 0.9545\n",
      "Epoch 28/30\n",
      "3125/3125 [==============================] - 456s 145ms/step - loss: 0.6211 - dense_loss: 0.6211 - dense_1_loss: 0.3195 - dense_auc: 0.5483 - dense_accuracy: 0.6837 - dense_precision: 0.4606 - dense_1_auc_1: 0.5869 - dense_1_accuracy: 0.3718 - dense_1_precision_1: 0.8872 - val_loss: 0.5805 - val_dense_loss: 0.5805 - val_dense_1_loss: 0.2776 - val_dense_auc: 0.5567 - val_dense_accuracy: 0.7303 - val_dense_precision: 0.7778 - val_dense_1_auc_1: 0.5813 - val_dense_1_accuracy: 0.4780 - val_dense_1_precision_1: 0.9444\n",
      "Epoch 29/30\n",
      "3125/3125 [==============================] - 457s 145ms/step - loss: 0.6214 - dense_loss: 0.6214 - dense_1_loss: 0.3195 - dense_auc: 0.5476 - dense_accuracy: 0.6834 - dense_precision: 0.4422 - dense_1_auc_1: 0.5862 - dense_1_accuracy: 0.3718 - dense_1_precision_1: 0.8903 - val_loss: 0.5804 - val_dense_loss: 0.5804 - val_dense_1_loss: 0.2704 - val_dense_auc: 0.5609 - val_dense_accuracy: 0.7303 - val_dense_precision: 0.8125 - val_dense_1_auc_1: 0.5922 - val_dense_1_accuracy: 0.4780 - val_dense_1_precision_1: 0.9375\n",
      "Epoch 30/30\n",
      "3125/3125 [==============================] - 455s 145ms/step - loss: 0.6213 - dense_loss: 0.6213 - dense_1_loss: 0.3194 - dense_auc: 0.5471 - dense_accuracy: 0.6832 - dense_precision: 0.4385 - dense_1_auc_1: 0.5870 - dense_1_accuracy: 0.3716 - dense_1_precision_1: 0.8781 - val_loss: 0.5808 - val_dense_loss: 0.5808 - val_dense_1_loss: 0.2837 - val_dense_auc: 0.5541 - val_dense_accuracy: 0.7306 - val_dense_precision: 0.8095 - val_dense_1_auc_1: 0.5796 - val_dense_1_accuracy: 0.4780 - val_dense_1_precision_1: 0.9524\n",
      "313/313 [==============================] - 42s 131ms/step - loss: 0.5808 - dense_loss: 0.5808 - dense_1_loss: 0.2837 - dense_auc: 0.5541 - dense_accuracy: 0.7306 - dense_precision: 0.8095 - dense_1_auc_1: 0.5796 - dense_1_accuracy: 0.4780 - dense_1_precision_1: 0.9524\n",
      "313/313 [==============================] - 44s 124ms/step\n"
     ]
    },
    {
     "name": "stderr",
     "output_type": "stream",
     "text": [
      "<ipython-input-15-84c8743889bf>:135: VisibleDeprecationWarning: Creating an ndarray from ragged nested sequences (which is a list-or-tuple of lists-or-tuples-or ndarrays with different lengths or shapes) is deprecated. If you meant to do this, you must specify 'dtype=object' when creating the ndarray.\n",
      "  price_changes = np.concatenate(np.array(price_changes))\n"
     ]
    },
    {
     "data": {
      "application/vnd.jupyter.widget-view+json": {
       "model_id": "3f308feeecfd45449109f6b6f476908a",
       "version_major": 2,
       "version_minor": 0
      },
      "text/plain": [
       "VBox(children=(Label(value='3441.705 MB of 3441.705 MB uploaded\\r'), FloatProgress(value=1.0, max=1.0)))"
      ]
     },
     "metadata": {},
     "output_type": "display_data"
    },
    {
     "data": {
      "text/html": [
       "<style>\n",
       "    table.wandb td:nth-child(1) { padding: 0 10px; text-align: left ; width: auto;} td:nth-child(2) {text-align: left ; width: 100%}\n",
       "    .wandb-row { display: flex; flex-direction: row; flex-wrap: wrap; justify-content: flex-start; width: 100% }\n",
       "    .wandb-col { display: flex; flex-direction: column; flex-basis: 100%; flex: 1; padding: 10px; }\n",
       "    </style>\n",
       "<div class=\"wandb-row\"><div class=\"wandb-col\"><h3>Run history:</h3><br/><table class=\"wandb\"><tr><td>accuracy</td><td>▁</td></tr><tr><td>auc</td><td>▁</td></tr><tr><td>dense_1_accuracy</td><td>▄█▇▅▂█▇▅▅▂█▆▃██▅▅▁█▇▄██▆▆▃█▇▅▁█▆▆▄██▅▂██</td></tr><tr><td>dense_1_auc_1</td><td>▃▄▆▄▄▅▆▅▅▁▆▅▅▆▇▅▅▄▆▇▆▆▇▇▆▆▇█▆▅▇▇▇▆▇█▇▅▇█</td></tr><tr><td>dense_1_loss</td><td>▅▁▂▄▇▁▂▄▅▃▁▃▆▁▁▄▄█▁▂▅▁▁▃▄▇▁▂▄▇▁▃▃▆▁▁▄█▁▁</td></tr><tr><td>dense_1_precision_1</td><td>▇▇▇▇▇▇▇▇▇▁▇▇▇▇█▇▇███████████████████████</td></tr><tr><td>dense_accuracy</td><td>▃▇▇▅▁▇▇▄▄█▇▆▃▇▇▅▅▁▇▆▄█▇▅▅▂▇▇▄▁▇▆▆▃█▇▅▁▇▇</td></tr><tr><td>dense_auc</td><td>▁▂▂▂▁▂▃▂▂█▃▂▂▃▃▂▂▁▃▃▂▃▃▃▂▂▃▃▂▁▃▃▃▂▃▃▃▁▃▃</td></tr><tr><td>dense_loss</td><td>█▄▄▆█▄▄▆▆▁▄▅▇▃▃▆▆█▃▄▆▃▃▅▅▇▃▃▆█▃▄▅▆▃▃▅▇▃▃</td></tr><tr><td>dense_precision</td><td>▇▆▇▇▇▇▇▇▇▁▇▇▇▇█▇▇█▇▇███▇███▇▇▇██▇▇███▇██</td></tr><tr><td>epoch</td><td>▁▁▁▂▂▂▂▃▃▃▃▄▄▄▄▅▅▅▅▆▆▆▆▇▇▇▇███</td></tr><tr><td>loss</td><td>█▄▄▆█▄▄▆▆▁▄▅▇▃▃▆▆█▃▄▆▃▃▅▅▇▃▃▆█▃▄▅▆▃▃▅▇▃▃</td></tr><tr><td>max_diff</td><td>▁</td></tr><tr><td>val_dense_1_accuracy</td><td>████████████████▄▄█▄▄▄▄▄▁▁▄▄▄▄</td></tr><tr><td>val_dense_1_auc_1</td><td>▁▄▅▇▄▅▅▅▆▇▇▇▇█▇▆█▆▇▇█▇▇▇▇▇▇▇█▇</td></tr><tr><td>val_dense_1_loss</td><td>▃▄▆▂▂▆▆▆▆▇▇▅▃▆▂▁▆▆▄▆▆▇▃▄██▆▅▄▅</td></tr><tr><td>val_dense_1_precision_1</td><td>▁▁▁▁▁▁▁▁▁▁▁▁▁█▁▁▇▇████▇▇██████</td></tr><tr><td>val_dense_accuracy</td><td>▁▁▁▁▁▁▁▁▁▁▁▁▁▁▁▁▃▄▂▆▅▆▂▄███▆▆▇</td></tr><tr><td>val_dense_auc</td><td>▁▅▆▇▄▆▆▆▇▇▇▇▇▇▇▆▇▆▇▇█▇▇▇▇▇█▇█▇</td></tr><tr><td>val_dense_loss</td><td>█▇█▆▆▆▅▆▅▆▅▃▃▄▃▄▄▄▂▃▃▄▁▁▆▆▃▁▁▂</td></tr><tr><td>val_dense_precision</td><td>▁▁▁▁▁▁▁▁▁▁▁▁▁▅▁▁▇▇▇███▇▇▇▇████</td></tr><tr><td>val_loss</td><td>█▇█▆▆▆▅▆▅▆▅▃▃▄▃▄▄▄▂▃▃▄▁▁▆▆▃▁▁▂</td></tr></table><br/></div><div class=\"wandb-col\"><h3>Run summary:</h3><br/><table class=\"wandb\"><tr><td>accuracy</td><td>0.7306</td></tr><tr><td>auc</td><td>0.55412</td></tr><tr><td>dense_1_accuracy</td><td>0.37164</td></tr><tr><td>dense_1_auc_1</td><td>0.58695</td></tr><tr><td>dense_1_loss</td><td>0.31937</td></tr><tr><td>dense_1_precision_1</td><td>0.87808</td></tr><tr><td>dense_accuracy</td><td>0.68324</td></tr><tr><td>dense_auc</td><td>0.54709</td></tr><tr><td>dense_loss</td><td>0.62128</td></tr><tr><td>dense_precision</td><td>0.43848</td></tr><tr><td>epoch</td><td>29</td></tr><tr><td>loss</td><td>0.62128</td></tr><tr><td>max_diff</td><td>0.0023</td></tr><tr><td>val_dense_1_accuracy</td><td>0.478</td></tr><tr><td>val_dense_1_auc_1</td><td>0.57959</td></tr><tr><td>val_dense_1_loss</td><td>0.28368</td></tr><tr><td>val_dense_1_precision_1</td><td>0.95238</td></tr><tr><td>val_dense_accuracy</td><td>0.7306</td></tr><tr><td>val_dense_auc</td><td>0.55412</td></tr><tr><td>val_dense_loss</td><td>0.58075</td></tr><tr><td>val_dense_precision</td><td>0.80952</td></tr><tr><td>val_loss</td><td>0.58075</td></tr></table><br/></div></div>"
      ],
      "text/plain": [
       "<IPython.core.display.HTML object>"
      ]
     },
     "metadata": {},
     "output_type": "display_data"
    },
    {
     "data": {
      "text/html": [
       " View run <strong style=\"color:#cdcd00\">vocal-star-32</strong> at: <a href='https://wandb.ai/aghalsa/stonks_effnet_nsize/runs/vtwc9p59' target=\"_blank\">https://wandb.ai/aghalsa/stonks_effnet_nsize/runs/vtwc9p59</a><br/>Synced 5 W&B file(s), 1 media file(s), 14 artifact file(s) and 0 other file(s)"
      ],
      "text/plain": [
       "<IPython.core.display.HTML object>"
      ]
     },
     "metadata": {},
     "output_type": "display_data"
    },
    {
     "data": {
      "text/html": [
       "Find logs at: <code>./wandb/run-20231231_191428-vtwc9p59/logs</code>"
      ],
      "text/plain": [
       "<IPython.core.display.HTML object>"
      ]
     },
     "metadata": {},
     "output_type": "display_data"
    },
    {
     "data": {
      "image/png": "[encoded data removed]",
      "text/plain": [
       "<Figure size 640x480 with 2 Axes>"
      ]
     },
     "metadata": {},
     "output_type": "display_data"
    }
   ],
   "source": [
    "configs = dict(\n",
    "    batch_size = 32,\n",
    "    model_name = 'effnetb7',\n",
    "    epochs = 30,\n",
    "    init_learning_rate = 0.3*0.0001,\n",
    "    itrain = 4,\n",
    "    ntrain = 100000,\n",
    "    shuffle=True,\n",
    "    train_all = False,\n",
    "    loss_fn = tf.keras.losses.BinaryCrossentropy(),\n",
    "    metrics = ['AUC','accuracy','Precision']\n",
    "\n",
    ")\n",
    "run = wandb.init(project='stonks_effnet_nsize', config=configs, job_type='train',settings=wandb.Settings(init_timeout=300))\n",
    "config = wandb.config\n",
    "\n",
    "\n",
    "# Define WandbCallback for experiment tracking\n",
    "wandb_callback = WandbCallback(monitor='val_accuracy',\n",
    "                               log_weights=True,\n",
    "                               log_evaluation=True,\n",
    "                               log_batch_frequency = 100,\n",
    "                               save_best_only = True,\n",
    "                               validation_steps=10)\n",
    "\n",
    "save_path_all = '/content/drive/MyDrive/Stonks/models/stonk_classifier_all_'+str(config.itrain)+'_'+str(config.ntrain)+'.h5'\n",
    "save_path_base = '/content/drive/MyDrive/Stonks/models/stonk_classifier_base_'+str(config.itrain)+'_'+str(config.ntrain)+'.h5'\n",
    "# callbacks\n",
    "if config.train_all:\n",
    "  callbacks = [wandb_callback, WandbModelCheckpoint(filepath = save_path_all , save_best_only=True)]\n",
    "else:\n",
    "  callbacks = [wandb_callback, WandbModelCheckpoint(filepath = save_path_base , save_best_only=True)]\n",
    "\n",
    "# Train\n",
    "stonk_classifier = train_classifier(config, callbacks=callbacks, verbose=1)\n",
    "\n",
    "#wandb.log('train/train_loss',train_loss)\n",
    "# Evaluate the trained model\n",
    "\n",
    "\n",
    "rtrainf = (config.itrain)+(config.ntrain)\n",
    "val_size = (config.ntrain)//10\n",
    "val = tf.data.Dataset.from_tensor_slices((range(rtrainf, rtrainf + val_size)))\n",
    "val = val.map(generate_image_tf, num_parallel_calls=1)## Setting this to 1. AUTOTUNE freezing computation\n",
    "val = val.batch(batch_size)\n",
    "\n",
    "\n",
    "#loss, auc, accuracy, precision = stonk_classifier.evaluate(val)\n",
    "results = stonk_classifier.evaluate(val)\n",
    "loss = results[0]\n",
    "auc = results[3]\n",
    "accuracy = results[4]\n",
    "precision = results[5]\n",
    "y_pred = stonk_classifier.predict(val)[0]\n",
    "y = np.concatenate([y[0] for x, y in val], axis=0)\n",
    "int_steps = 100\n",
    "step = (y_pred.max()-y_pred.min())/int_steps\n",
    "accuracy_list = np.zeros(int_steps)\n",
    "baseline_acc = np.max([y.sum()/(val_size),1 - (y.sum()/(val_size))])\n",
    "for t in range(int_steps):\n",
    "  y_pred_binary = (y_pred > (y_pred.min() + step*t))\n",
    "  c = confusion_matrix(y,y_pred_binary)/(val_size)\n",
    "  accuracy_list[t] = c[0,0]+c[1,1]\n",
    "accuracy_list = accuracy_list-baseline_acc\n",
    "max_accuracy_diff = np.amax(accuracy_list)\n",
    "y_pred_binary = (y_pred > (y_pred.min() + step*50))\n",
    "price_changes = []\n",
    "for el in val.take(313):\n",
    "  price_changes.append((el[1][1]).numpy())\n",
    "\n",
    "price_changes = np.concatenate(np.array(price_changes))\n",
    "ans = pnl_curve_tensorflow(y_pred_binary,price_changes*stonk_std[1])\n",
    "\n",
    "fig, axs = plt.subplots(2)\n",
    "axs[0].plot(accuracy_list,color  = 'b')\n",
    "#ax.plot(accuracy_all, color = 'g')\n",
    "axs[0].set_ylim(0.0,0.05)\n",
    "axs[1].plot(ans[1].numpy())\n",
    "axs[1].plot(ans[3].numpy())\n",
    "wandb.log({'auc': auc,'accuracy': accuracy, 'acc_list': accuracy_list,'max_diff':max_accuracy_diff})\n",
    "\n",
    "\n",
    "# Close the W&B run.\n",
    "wandb.finish()\n"
   ]
  },
  {
   "cell_type": "code",
   "execution_count": null,
   "metadata": {
    "colab": {
     "base_uri": "https://localhost:8080/",
     "height": 526
    },
    "id": "QQHcz2bDkA8i",
    "outputId": "4f9666ae-fac3-4eb4-99bd-ba391d9af69d"
   },
   "outputs": [
    {
     "name": "stderr",
     "output_type": "stream",
     "text": [
      "<ipython-input-26-9a3eeb7dcf95>:6: VisibleDeprecationWarning: Creating an ndarray from ragged nested sequences (which is a list-or-tuple of lists-or-tuples-or ndarrays with different lengths or shapes) is deprecated. If you meant to do this, you must specify 'dtype=object' when creating the ndarray.\n",
      "  price_changes = np.concatenate(np.array(price_changes))\n"
     ]
    },
    {
     "name": "stdout",
     "output_type": "stream",
     "text": [
      "0.059071393958881446\n",
      "tf.Tensor([1.         0.9996643  0.99999976 ... 1.1279415  1.1279415  1.1282758 ], shape=(10000,), dtype=float32)\n"
     ]
    },
    {
     "data": {
      "image/png": "[encoded data removed]",
      "text/plain": [
       "<Figure size 640x480 with 2 Axes>"
      ]
     },
     "metadata": {},
     "output_type": "display_data"
    }
   ],
   "source": [
    "y_pred_binary = (y_pred >= (y_pred.min() + step*0))\n",
    "price_changes = []\n",
    "for el in val.take(313):\n",
    "  price_changes.append((el[1][1]).numpy())\n",
    "\n",
    "price_changes = np.concatenate(np.array(price_changes))\n",
    "print(price_changes[-1] - price_changes[0])\n",
    "\n",
    "ans = pnl_curve_tensorflow(y_pred_binary,price_changes*stonk_std[1])\n",
    "\n",
    "fig, axs = plt.subplots(2)\n",
    "axs[0].plot(accuracy_list,color  = 'b')\n",
    "#ax.plot(accuracy_all, color = 'g')\n",
    "axs[0].set_ylim(0.0,0.05)\n",
    "axs[1].plot(ans[1].numpy())\n",
    "axs[1].plot(ans[3].numpy())\n",
    "print(ans[1])"
   ]
  },
  {
   "cell_type": "code",
   "execution_count": null,
   "metadata": {
    "colab": {
     "base_uri": "https://localhost:8080/",
     "height": 509
    },
    "id": "_l4ODiO9cOIu",
    "outputId": "0b4f3a75-01ec-4428-fa77-291001240746"
   },
   "outputs": [
    {
     "name": "stdout",
     "output_type": "stream",
     "text": [
      "313/313 [==============================] - 40s 128ms/step - loss: 0.6773 - dense_loss: 0.6773 - dense_1_loss: 0.3620 - dense_auc: 0.5411 - dense_accuracy: 0.5983 - dense_precision: 0.6842 - dense_1_auc_1: 0.6283 - dense_1_accuracy: 0.1900 - dense_1_precision_1: 0.9474\n",
      "313/313 [==============================] - 38s 120ms/step\n"
     ]
    },
    {
     "data": {
      "text/plain": [
       "(0.0, 0.05)"
      ]
     },
     "execution_count": 28,
     "metadata": {},
     "output_type": "execute_result"
    },
    {
     "data": {
      "image/png": "[encoded data removed]",
      "text/plain": [
       "<Figure size 640x480 with 1 Axes>"
      ]
     },
     "metadata": {},
     "output_type": "display_data"
    }
   ],
   "source": [
    "results = stonk_classifier.evaluate(val)\n",
    "loss = results[0]\n",
    "auc = results[3]\n",
    "accuracy = results[4]\n",
    "precision = results[5]\n",
    "y_pred = stonk_classifier.predict(val)[0]\n",
    "y = np.concatenate([y[0] for x, y in val], axis=0)\n",
    "int_steps = 100\n",
    "step = (y_pred.max()-y_pred.min())/int_steps\n",
    "accuracy_list = np.zeros(int_steps)\n",
    "baseline_acc = np.max([y.sum()/(val_size),1 - (y.sum()/(val_size))])\n",
    "for t in range(int_steps):\n",
    "  y_pred_binary = (y_pred > (y_pred.min() + step*t))\n",
    "  c = confusion_matrix(y,y_pred_binary)/(val_size)\n",
    "  accuracy_list[t] = c[0,0]+c[1,1]\n",
    "accuracy_list = accuracy_list-baseline_acc\n",
    "max_accuracy_diff = np.amax(accuracy_list)\n",
    "fig, ax = plt.subplots()\n",
    "ax.plot(accuracy_list,color  = 'b')\n",
    "#ax.plot(accuracy_all, color = 'g')\n",
    "ax.set_ylim(0.0,0.05)\n",
    "\n",
    "# wandb.log({'auc': auc,'accuracy': accuracy, 'acc_list': accuracy_list,'max_diff':max_accuracy_diff})\n",
    "# # Close the W&B run.\n",
    "# wandb.finish()\n"
   ]
  },
  {
   "cell_type": "code",
   "execution_count": null,
   "metadata": {
    "id": "cDfW7fko1ugz"
   },
   "outputs": [],
   "source": [
    "sns.distplot(y_pred)"
   ]
  },
  {
   "cell_type": "code",
   "execution_count": null,
   "metadata": {
    "id": "DCoYgVp52m_T"
   },
   "outputs": [],
   "source": []
  },
  {
   "cell_type": "code",
   "execution_count": null,
   "metadata": {
    "id": "8xN5DuuYV8iQ"
   },
   "outputs": [],
   "source": [
    "y_pred_binary = (y_pred > (y_pred.min() + step*50))"
   ]
  },
  {
   "cell_type": "code",
   "execution_count": null,
   "metadata": {
    "id": "Rd_NiMudpL2W"
   },
   "outputs": [],
   "source": [
    "y_pred = stonk_classifier.predict(val)[0]\n",
    "y = np.concatenate([y[0] for x, y in val], axis=0)\n",
    "int_steps = 100\n",
    "step = (y_pred.max()-y_pred.min())/int_steps\n",
    "y_pred_binary = (y_pred > (y_pred.min() + step*50))"
   ]
  },
  {
   "cell_type": "code",
   "execution_count": null,
   "metadata": {
    "id": "p0jyxw4Op-Wx"
   },
   "outputs": [],
   "source": [
    "price_changes = []\n",
    "for el in val.take(313):\n",
    "  price_changes.append((el[1][1]).numpy())\n"
   ]
  },
  {
   "cell_type": "code",
   "execution_count": null,
   "metadata": {
    "id": "K1jhhiRgvNX8"
   },
   "outputs": [],
   "source": [
    "price_changes = np.concatenate(np.array(price_changes))"
   ]
  },
  {
   "cell_type": "code",
   "execution_count": null,
   "metadata": {
    "id": "1XQqzyeiv4fs"
   },
   "outputs": [],
   "source": [
    "ans = pnl_curve_tensorflow(y_pred_binary,price_changes*stonk_std[1])"
   ]
  },
  {
   "cell_type": "code",
   "execution_count": null,
   "metadata": {
    "id": "b3cEdRJa3A4M"
   },
   "outputs": [],
   "source": [
    "for el in val.take(1):\n",
    "  print(el)"
   ]
  },
  {
   "cell_type": "code",
   "execution_count": null,
   "metadata": {
    "id": "xDS7ULosyGeq"
   },
   "outputs": [],
   "source": [
    "plt.plot(ans[1].numpy())\n",
    "plt.plot(ans[3].numpy())"
   ]
  },
  {
   "cell_type": "code",
   "execution_count": null,
   "metadata": {
    "id": "QQ2gph_ga4e3"
   },
   "outputs": [],
   "source": [
    "ans[1]"
   ]
  },
  {
   "cell_type": "code",
   "execution_count": null,
   "metadata": {
    "colab": {
     "base_uri": "https://localhost:8080/",
     "height": 1000,
     "referenced_widgets": [
      "661f5df730b9411b9fc3fc78289beeeb",
      "5ff463b3586c4581b85c3c92b28dee53",
      "006a61f3e5234db18805b8e2cbfba64f",
      "1eff359db9b34807a294daf30b97bc7a",
      "ec0ff6c9fe7d400ebbbcf2dba5762af4",
      "206cd7b730104e65a077663f5b869dc3",
      "20d1933cad7d492c9537e24f1f15af40",
      "588a4f4465b046c99af38961dd49de95"
     ]
    },
    "id": "lJufvRuJ6Mhv",
    "outputId": "f9698d02-1c4f-4aa5-fd68-61ba87e20edb"
   },
   "outputs": [
    {
     "name": "stdout",
     "output_type": "stream",
     "text": [
      "313/313 [==============================] - 42s 134ms/step - loss: 0.5815 - dense_loss: 0.5815 - dense_1_loss: 0.2729 - dense_auc: 0.5531 - dense_accuracy: 0.7294 - dense_precision: 0.0000e+00 - dense_1_auc_1: 0.5781 - dense_1_accuracy: 0.4782 - dense_1_precision_1: 0.0000e+00\n",
      "313/313 [==============================] - 39s 125ms/step\n"
     ]
    },
    {
     "data": {
      "application/vnd.jupyter.widget-view+json": {
       "model_id": "661f5df730b9411b9fc3fc78289beeeb",
       "version_major": 2,
       "version_minor": 0
      },
      "text/plain": [
       "VBox(children=(Label(value='1966.690 MB of 1966.715 MB uploaded\\r'), FloatProgress(value=0.9999873919242827, m…"
      ]
     },
     "metadata": {},
     "output_type": "display_data"
    },
    {
     "data": {
      "text/html": [
       "<style>\n",
       "    table.wandb td:nth-child(1) { padding: 0 10px; text-align: left ; width: auto;} td:nth-child(2) {text-align: left ; width: 100%}\n",
       "    .wandb-row { display: flex; flex-direction: row; flex-wrap: wrap; justify-content: flex-start; width: 100% }\n",
       "    .wandb-col { display: flex; flex-direction: column; flex-basis: 100%; flex: 1; padding: 10px; }\n",
       "    </style>\n",
       "<div class=\"wandb-row\"><div class=\"wandb-col\"><h3>Run history:</h3><br/><table class=\"wandb\"><tr><td>accuracy</td><td>▁</td></tr><tr><td>auc</td><td>▁</td></tr><tr><td>dense_1_accuracy</td><td>▂▅▇█▁▅▇█▁▅▇█▃▅██▂▅▇█▁▅▇█▁▅██▃▅██▂▅██▂▅▇█</td></tr><tr><td>dense_1_auc_1</td><td>▁▂▄▃▁▂▄▄▃▂▃▄█▃▄▄▂▂▅▄▂▃▄▄▂▃▅▄▃▄▅▄▃▃▅▅▂▄▅▅</td></tr><tr><td>dense_1_loss</td><td>▅▃▂▂▆▃▂▂█▃▂▂▁▃▂▂▅▃▂▂▆▃▂▂▃▃▂▂▄▃▂▂▅▃▂▂▆▃▂▂</td></tr><tr><td>dense_1_precision_1</td><td>█▇▇▇█▇▇▇█▇▇▇▁▇▇▇█▇▇▇█▇▇▇█▇▇▇████████████</td></tr><tr><td>dense_accuracy</td><td>▁▄▇▇▁▄▇▇▂▄▇█▆▅▇█▂▅▇█▂▅▇█▂▅██▃▅██▂▅▇█▃▅▇█</td></tr><tr><td>dense_auc</td><td>▂▂▃▂▂▂▃▂▂▂▂▂█▂▃▂▁▂▃▂▁▂▃▂▁▂▃▃▂▂▃▃▂▂▃▃▂▂▃▃</td></tr><tr><td>dense_loss</td><td>█▅▃▂█▅▃▂█▅▃▂▁▄▂▂▇▅▂▂█▅▂▁█▅▂▁▆▄▁▁▇▄▂▁▆▄▂▁</td></tr><tr><td>dense_precision</td><td>▇▇▇▆▇▇▇▆█▇▇▇▁▇▇▇▇▇▇▇█▇▇▇▇▇▇▇█▇▇▇▇▇▇▇█▇▇▇</td></tr><tr><td>epoch</td><td>▁▂▃▃▄▅▆▆▇█</td></tr><tr><td>loss</td><td>█▅▃▂█▅▃▂█▅▃▂▁▄▂▂▇▅▂▂█▅▂▁█▅▂▁▆▄▁▁▇▄▂▁▆▄▂▁</td></tr><tr><td>max_diff</td><td>▁</td></tr><tr><td>val_dense_1_accuracy</td><td>▁▁▁▁▁▁▁▁▁▁</td></tr><tr><td>val_dense_1_auc_1</td><td>▁▅▄█▆▆▆▆██</td></tr><tr><td>val_dense_1_loss</td><td>▁▃▂▃▃▂▄▄█▂</td></tr><tr><td>val_dense_1_precision_1</td><td>▁▁▁▁▁▁▁▁▁▁</td></tr><tr><td>val_dense_accuracy</td><td>▁▁▁▁▁▁▁▁▁▁</td></tr><tr><td>val_dense_auc</td><td>▁▅▅█▇▇▇▇██</td></tr><tr><td>val_dense_loss</td><td>█▇▅▅▄▃▃▃█▁</td></tr><tr><td>val_dense_precision</td><td>▁▁▁▁▁▁▁▁▁▁</td></tr><tr><td>val_loss</td><td>█▇▅▅▄▃▃▃█▁</td></tr></table><br/></div><div class=\"wandb-col\"><h3>Run summary:</h3><br/><table class=\"wandb\"><tr><td>accuracy</td><td>0.7294</td></tr><tr><td>auc</td><td>0.5531</td></tr><tr><td>dense_1_accuracy</td><td>0.37076</td></tr><tr><td>dense_1_auc_1</td><td>0.56339</td></tr><tr><td>dense_1_loss</td><td>0.32844</td></tr><tr><td>dense_1_precision_1</td><td>0.81689</td></tr><tr><td>dense_accuracy</td><td>0.68259</td></tr><tr><td>dense_auc</td><td>0.53378</td></tr><tr><td>dense_loss</td><td>0.62633</td></tr><tr><td>dense_precision</td><td>0.41746</td></tr><tr><td>epoch</td><td>9</td></tr><tr><td>loss</td><td>0.62633</td></tr><tr><td>max_diff</td><td>0.0022</td></tr><tr><td>val_dense_1_accuracy</td><td>0.4782</td></tr><tr><td>val_dense_1_auc_1</td><td>0.57811</td></tr><tr><td>val_dense_1_loss</td><td>0.27288</td></tr><tr><td>val_dense_1_precision_1</td><td>0.0</td></tr><tr><td>val_dense_accuracy</td><td>0.7294</td></tr><tr><td>val_dense_auc</td><td>0.5531</td></tr><tr><td>val_dense_loss</td><td>0.58152</td></tr><tr><td>val_dense_precision</td><td>0.0</td></tr><tr><td>val_loss</td><td>0.58152</td></tr></table><br/></div></div>"
      ],
      "text/plain": [
       "<IPython.core.display.HTML object>"
      ]
     },
     "metadata": {},
     "output_type": "display_data"
    },
    {
     "data": {
      "text/html": [
       " View run <strong style=\"color:#cdcd00\">eager-totem-17</strong> at: <a href='https://wandb.ai/aghalsa/stonks_effnet_nsize/runs/o9twwac2' target=\"_blank\">https://wandb.ai/aghalsa/stonks_effnet_nsize/runs/o9twwac2</a><br/>Synced 5 W&B file(s), 1 media file(s), 8 artifact file(s) and 0 other file(s)"
      ],
      "text/plain": [
       "<IPython.core.display.HTML object>"
      ]
     },
     "metadata": {},
     "output_type": "display_data"
    },
    {
     "data": {
      "text/html": [
       "Find logs at: <code>./wandb/run-20231211_025828-o9twwac2/logs</code>"
      ],
      "text/plain": [
       "<IPython.core.display.HTML object>"
      ]
     },
     "metadata": {},
     "output_type": "display_data"
    },
    {
     "data": {
      "image/png": "[encoded data removed]",
      "text/plain": [
       "<Figure size 640x480 with 1 Axes>"
      ]
     },
     "metadata": {},
     "output_type": "display_data"
    }
   ],
   "source": [
    "results = stonk_classifier.evaluate(val)\n",
    "loss = results[0]\n",
    "auc = results[3]\n",
    "accuracy = results[4]\n",
    "precision = results[5]\n",
    "y_pred = stonk_classifier.predict(val)[0]\n",
    "y = np.concatenate([y[0] for x, y in val], axis=0)\n",
    "int_steps = 100\n",
    "step = (y_pred.max()-y_pred.min())/int_steps\n",
    "accuracy_list = np.zeros(int_steps)\n",
    "baseline_acc = np.max([y.sum()/(val_size),1 - (y.sum()/(val_size))])\n",
    "for t in range(int_steps):\n",
    "  y_pred_binary = (y_pred > (y_pred.min() + step*t))\n",
    "  c = confusion_matrix(y,y_pred_binary)/(val_size)\n",
    "  accuracy_list[t] = c[0,0]+c[1,1]\n",
    "accuracy_list = accuracy_list-baseline_acc\n",
    "max_accuracy_diff = np.amax(accuracy_list)\n",
    "fig, ax = plt.subplots()\n",
    "ax.plot(accuracy_list,color  = 'b')\n",
    "#ax.plot(accuracy_all, color = 'g')\n",
    "ax.set_ylim(0.0,0.05)\n",
    "wandb.log({'auc': auc,'accuracy': accuracy, 'acc_list': accuracy_list,'max_diff':max_accuracy_diff})\n",
    "\n",
    "\n",
    "# Close the W&B run.\n",
    "wandb.finish()\n"
   ]
  },
  {
   "cell_type": "code",
   "execution_count": null,
   "metadata": {
    "colab": {
     "base_uri": "https://localhost:8080/"
    },
    "id": "psumS3p3TfRz",
    "outputId": "349835b0-62f1-4d42-dcdd-fac21d2ac4e9"
   },
   "outputs": [
    {
     "name": "stdout",
     "output_type": "stream",
     "text": [
      "313/313 [==============================] - 42s 134ms/step - loss: 0.5815 - dense_loss: 0.5815 - dense_1_loss: 0.2729 - dense_auc: 0.5531 - dense_accuracy: 0.7294 - dense_precision: 0.0000e+00 - dense_1_auc_1: 0.5781 - dense_1_accuracy: 0.4782 - dense_1_precision_1: 0.0000e+00\n"
     ]
    },
    {
     "data": {
      "text/plain": [
       "[0.5815239548683167,\n",
       " 0.5815239548683167,\n",
       " 0.27288246154785156,\n",
       " 0.5530992746353149,\n",
       " 0.7293999791145325,\n",
       " 0.0,\n",
       " 0.5781114101409912,\n",
       " 0.4781999886035919,\n",
       " 0.0]"
      ]
     },
     "execution_count": 25,
     "metadata": {},
     "output_type": "execute_result"
    }
   ],
   "source": [
    "stonk_classifier.evaluate(val)"
   ]
  },
  {
   "cell_type": "code",
   "execution_count": null,
   "metadata": {
    "id": "rIeKmBNqUb5l"
   },
   "outputs": [],
   "source": [
    "stonk_classifier = tf.keras.models.load_model('/content/drive/MyDrive/Stonks/models/stonk_classifier_base_100000.h5')\n",
    "#stonk_classifier_all = tf.keras.models.load_model('/content/drive/MyDrive/Stonks/models/stonk_classifier_all.h5')"
   ]
  },
  {
   "cell_type": "code",
   "execution_count": null,
   "metadata": {
    "colab": {
     "base_uri": "https://localhost:8080/"
    },
    "id": "D2NFNxd6n-XY",
    "outputId": "6d334dfd-314e-4d70-b251-028309621d61"
   },
   "outputs": [
    {
     "name": "stdout",
     "output_type": "stream",
     "text": [
      "313/313 [==============================] - 46s 132ms/step\n"
     ]
    }
   ],
   "source": [
    "y_pred = stonk_classifier.predict(val)\n",
    "#y_pred_all = stonk_classifier_all.predict(val)"
   ]
  },
  {
   "cell_type": "code",
   "execution_count": null,
   "metadata": {
    "colab": {
     "base_uri": "https://localhost:8080/",
     "height": 644
    },
    "id": "Vv8OEKzcrW0a",
    "outputId": "9e9173ae-17b0-4960-ca7d-b4ac21a19123"
   },
   "outputs": [
    {
     "name": "stderr",
     "output_type": "stream",
     "text": [
      "<ipython-input-21-5800731942ad>:1: UserWarning: \n",
      "\n",
      "`distplot` is a deprecated function and will be removed in seaborn v0.14.0.\n",
      "\n",
      "Please adapt your code to use either `displot` (a figure-level function with\n",
      "similar flexibility) or `histplot` (an axes-level function for histograms).\n",
      "\n",
      "For a guide to updating your code to use the new functions, please see\n",
      "https://gist.github.com/mwaskom/de44147ed2974457ad6372750bbe5751\n",
      "\n",
      "  sns.distplot(y_pred[:,0])\n"
     ]
    },
    {
     "data": {
      "text/plain": [
       "<Axes: ylabel='Density'>"
      ]
     },
     "execution_count": 21,
     "metadata": {},
     "output_type": "execute_result"
    },
    {
     "data": {
      "image/png": "[encoded data removed]",
      "text/plain": [
       "<Figure size 640x480 with 1 Axes>"
      ]
     },
     "metadata": {},
     "output_type": "display_data"
    }
   ],
   "source": [
    "sns.distplot(y_pred[:,0])\n",
    "#sns.distplot(y_pred_all[:,0])"
   ]
  },
  {
   "cell_type": "code",
   "execution_count": null,
   "metadata": {
    "id": "xWM_ZNe3sqY_"
   },
   "outputs": [],
   "source": [
    "y = np.concatenate([y for x, y in val], axis=0)"
   ]
  },
  {
   "cell_type": "code",
   "execution_count": null,
   "metadata": {
    "id": "bxaeGzrEs3qq"
   },
   "outputs": [],
   "source": [
    "int_steps = 100\n",
    "step = (y_pred.max()-y_pred.min())/int_steps\n",
    "#step_all = (y_pred_all.max()-y_pred_all.min())/int_steps\n",
    "accuracy = np.zeros(int_steps)\n",
    "#accuracy_all = np.zeros(int_steps)\n",
    "baseline_acc = np.max([y.sum()/((config.ntrain)//10),1 - (y.sum()/((config.ntrain)//10))])\n",
    "for t in range(int_steps):\n",
    "  y_pred_binary = (y_pred > (y_pred.min() + step*t))\n",
    "  c = confusion_matrix(y,y_pred_binary)/((config.ntrain)//10)\n",
    "  accuracy[t] = c[0,0]+c[1,1]\n",
    "accuracy = accuracy - baseline_acc\n",
    "  # y_pred_all_binary = (y_pred_all > (y_pred_all.min() + step_all*t))\n",
    "  # c_all = confusion_matrix(y,y_pred_all_binary)/(10000)\n",
    "  # accuracy_all[t] = c_all[0,0]+c_all[1,1]"
   ]
  },
  {
   "cell_type": "code",
   "execution_count": null,
   "metadata": {
    "colab": {
     "base_uri": "https://localhost:8080/",
     "height": 453
    },
    "id": "Sl6GLsDS0Eit",
    "outputId": "4a3c8285-d29a-4cff-e64e-c56c5d76facc"
   },
   "outputs": [
    {
     "data": {
      "text/plain": [
       "(0.0, 0.05)"
      ]
     },
     "execution_count": 52,
     "metadata": {},
     "output_type": "execute_result"
    },
    {
     "data": {
      "image/png": "[encoded data removed]",
      "text/plain": [
       "<Figure size 640x480 with 1 Axes>"
      ]
     },
     "metadata": {},
     "output_type": "display_data"
    }
   ],
   "source": [
    "fig, ax = plt.subplots()\n",
    "ax.plot(accuracy,color  = 'b')\n",
    "#ax.plot(accuracy_all, color = 'g')\n",
    "ax.set_ylim(0.0,0.05)"
   ]
  },
  {
   "cell_type": "code",
   "execution_count": null,
   "metadata": {
    "colab": {
     "base_uri": "https://localhost:8080/"
    },
    "id": "xnNNtV_11IwA",
    "outputId": "1e974fb0-ad54-4008-8553-91496d0534ed"
   },
   "outputs": [
    {
     "data": {
      "text/plain": [
       "array([-4.58700000e-01, -1.22900000e-01, -5.15000000e-02, -3.04000000e-02,\n",
       "       -1.93000000e-02, -1.38000000e-02, -1.23000000e-02, -9.70000000e-03,\n",
       "       -6.90000000e-03, -6.10000000e-03, -6.40000000e-03, -5.20000000e-03,\n",
       "       -4.10000000e-03, -2.60000000e-03, -2.20000000e-03, -1.00000000e-03,\n",
       "       -1.00000000e-03, -6.00000000e-04, -1.00000000e-04,  4.00000000e-04,\n",
       "        6.00000000e-04,  9.00000000e-04,  1.00000000e-03,  1.40000000e-03,\n",
       "        1.40000000e-03,  1.40000000e-03,  1.60000000e-03,  1.80000000e-03,\n",
       "        2.10000000e-03,  2.10000000e-03,  1.90000000e-03,  1.70000000e-03,\n",
       "        1.60000000e-03,  1.60000000e-03,  1.40000000e-03,  1.00000000e-03,\n",
       "        1.20000000e-03,  1.50000000e-03,  1.70000000e-03,  1.70000000e-03,\n",
       "        1.80000000e-03,  1.80000000e-03,  1.60000000e-03,  1.50000000e-03,\n",
       "        1.50000000e-03,  1.70000000e-03,  1.80000000e-03,  1.90000000e-03,\n",
       "        2.20000000e-03,  2.10000000e-03,  2.20000000e-03,  2.20000000e-03,\n",
       "        2.20000000e-03,  2.20000000e-03,  2.00000000e-03,  1.90000000e-03,\n",
       "        1.80000000e-03,  1.70000000e-03,  1.70000000e-03,  1.50000000e-03,\n",
       "        1.60000000e-03,  1.60000000e-03,  1.60000000e-03,  1.50000000e-03,\n",
       "        1.50000000e-03,  1.40000000e-03,  1.50000000e-03,  1.60000000e-03,\n",
       "        1.50000000e-03,  1.40000000e-03,  1.30000000e-03,  1.10000000e-03,\n",
       "        1.10000000e-03,  1.10000000e-03,  1.00000000e-03,  1.00000000e-03,\n",
       "        9.00000000e-04,  9.00000000e-04,  6.00000000e-04,  5.00000000e-04,\n",
       "        5.00000000e-04,  4.00000000e-04,  3.00000000e-04,  2.00000000e-04,\n",
       "        2.00000000e-04,  2.00000000e-04,  2.00000000e-04,  2.00000000e-04,\n",
       "        2.00000000e-04,  2.00000000e-04,  2.00000000e-04,  2.00000000e-04,\n",
       "        1.00000000e-04,  1.00000000e-04, -1.11022302e-16,  1.00000000e-04,\n",
       "        1.00000000e-04,  1.00000000e-04,  1.00000000e-04,  1.00000000e-04])"
      ]
     },
     "execution_count": 47,
     "metadata": {},
     "output_type": "execute_result"
    }
   ],
   "source": [
    "accuracy"
   ]
  },
  {
   "cell_type": "code",
   "execution_count": null,
   "metadata": {
    "id": "F_b_xw6J2BVB"
   },
   "outputs": [],
   "source": [
    "accuracy = accuracy - baseline_acc"
   ]
  },
  {
   "cell_type": "code",
   "execution_count": null,
   "metadata": {
    "colab": {
     "base_uri": "https://localhost:8080/"
    },
    "id": "yEP5ra96SmIG",
    "outputId": "036bace9-950b-4073-ccac-399908d63421"
   },
   "outputs": [
    {
     "data": {
      "text/plain": [
       "array([-4.58700000e-01, -1.22900000e-01, -5.15000000e-02, -3.04000000e-02,\n",
       "       -1.93000000e-02, -1.38000000e-02, -1.23000000e-02, -9.70000000e-03,\n",
       "       -6.90000000e-03, -6.10000000e-03, -6.40000000e-03, -5.20000000e-03,\n",
       "       -4.10000000e-03, -2.60000000e-03, -2.20000000e-03, -1.00000000e-03,\n",
       "       -1.00000000e-03, -6.00000000e-04, -1.00000000e-04,  4.00000000e-04,\n",
       "        6.00000000e-04,  9.00000000e-04,  1.00000000e-03,  1.40000000e-03,\n",
       "        1.40000000e-03,  1.40000000e-03,  1.60000000e-03,  1.80000000e-03,\n",
       "        2.10000000e-03,  2.10000000e-03,  1.90000000e-03,  1.70000000e-03,\n",
       "        1.60000000e-03,  1.60000000e-03,  1.40000000e-03,  1.00000000e-03,\n",
       "        1.20000000e-03,  1.50000000e-03,  1.70000000e-03,  1.70000000e-03,\n",
       "        1.80000000e-03,  1.80000000e-03,  1.60000000e-03,  1.50000000e-03,\n",
       "        1.50000000e-03,  1.70000000e-03,  1.80000000e-03,  1.90000000e-03,\n",
       "        2.20000000e-03,  2.10000000e-03,  2.20000000e-03,  2.20000000e-03,\n",
       "        2.20000000e-03,  2.20000000e-03,  2.00000000e-03,  1.90000000e-03,\n",
       "        1.80000000e-03,  1.70000000e-03,  1.70000000e-03,  1.50000000e-03,\n",
       "        1.60000000e-03,  1.60000000e-03,  1.60000000e-03,  1.50000000e-03,\n",
       "        1.50000000e-03,  1.40000000e-03,  1.50000000e-03,  1.60000000e-03,\n",
       "        1.50000000e-03,  1.40000000e-03,  1.30000000e-03,  1.10000000e-03,\n",
       "        1.10000000e-03,  1.10000000e-03,  1.00000000e-03,  1.00000000e-03,\n",
       "        9.00000000e-04,  9.00000000e-04,  6.00000000e-04,  5.00000000e-04,\n",
       "        5.00000000e-04,  4.00000000e-04,  3.00000000e-04,  2.00000000e-04,\n",
       "        2.00000000e-04,  2.00000000e-04,  2.00000000e-04,  2.00000000e-04,\n",
       "        2.00000000e-04,  2.00000000e-04,  2.00000000e-04,  2.00000000e-04,\n",
       "        1.00000000e-04,  1.00000000e-04, -1.11022302e-16,  1.00000000e-04,\n",
       "        1.00000000e-04,  1.00000000e-04,  1.00000000e-04,  1.00000000e-04])"
      ]
     },
     "execution_count": 50,
     "metadata": {},
     "output_type": "execute_result"
    }
   ],
   "source": [
    "accuracy"
   ]
  },
  {
   "cell_type": "markdown",
   "metadata": {
    "id": "IVCRupg8dKI8"
   },
   "source": [
    "**bold text**# To Do List\n",
    "\n",
    "1.   Code in returns (and sharpe ratio) instead of just accuracy (use separate val dataset)\n",
    "2.   Try smaller datasets\n",
    "3.   Backtesting framework\n",
    "4.   Monte - Carlo sampling (to validate the strategy)\n",
    "5.   Try other datasets\n",
    "6.   Change the initialization for training from scratch ('He Normal')\n",
    "7.   Choose a baseline (SPY)\n",
    "\n",
    "\n"
   ]
  },
  {
   "cell_type": "code",
   "execution_count": null,
   "metadata": {
    "id": "7gNcFqV7dNPi"
   },
   "outputs": [],
   "source": []
  }
 ],
 "metadata": {
  "accelerator": "GPU",
  "colab": {
   "machine_shape": "hm",
   "provenance": []
  },
  "kernelspec": {
   "display_name": "Python 3 (ipykernel)",
   "language": "python",
   "name": "python3"
  },
  "language_info": {
   "codemirror_mode": {
    "name": "ipython",
    "version": 3
   },
   "file_extension": ".py",
   "mimetype": "text/x-python",
   "name": "python",
   "nbconvert_exporter": "python",
   "pygments_lexer": "ipython3",
   "version": "3.10.9"
  },
  "widgets": {
   "application/vnd.jupyter.widget-state+json": {
    "006a61f3e5234db18805b8e2cbfba64f": {
     "model_module": "@jupyter-widgets/controls",
     "model_module_version": "1.5.0",
     "model_name": "FloatProgressModel",
     "state": {
      "_dom_classes": [],
      "_model_module": "@jupyter-widgets/controls",
      "_model_module_version": "1.5.0",
      "_model_name": "FloatProgressModel",
      "_view_count": null,
      "_view_module": "@jupyter-widgets/controls",
      "_view_module_version": "1.5.0",
      "_view_name": "ProgressView",
      "bar_style": "",
      "description": "",
      "description_tooltip": null,
      "layout": "IPY_MODEL_20d1933cad7d492c9537e24f1f15af40",
      "max": 1,
      "min": 0,
      "orientation": "horizontal",
      "style": "IPY_MODEL_588a4f4465b046c99af38961dd49de95",
      "value": 1
     }
    },
    "1316d9fc9ffd4fa99032e7dcc740d5f6": {
     "model_module": "@jupyter-widgets/base",
     "model_module_version": "1.2.0",
     "model_name": "LayoutModel",
     "state": {
      "_model_module": "@jupyter-widgets/base",
      "_model_module_version": "1.2.0",
      "_model_name": "LayoutModel",
      "_view_count": null,
      "_view_module": "@jupyter-widgets/base",
      "_view_module_version": "1.2.0",
      "_view_name": "LayoutView",
      "align_content": null,
      "align_items": null,
      "align_self": null,
      "border": null,
      "bottom": null,
      "display": null,
      "flex": null,
      "flex_flow": null,
      "grid_area": null,
      "grid_auto_columns": null,
      "grid_auto_flow": null,
      "grid_auto_rows": null,
      "grid_column": null,
      "grid_gap": null,
      "grid_row": null,
      "grid_template_areas": null,
      "grid_template_columns": null,
      "grid_template_rows": null,
      "height": null,
      "justify_content": null,
      "justify_items": null,
      "left": null,
      "margin": null,
      "max_height": null,
      "max_width": null,
      "min_height": null,
      "min_width": null,
      "object_fit": null,
      "object_position": null,
      "order": null,
      "overflow": null,
      "overflow_x": null,
      "overflow_y": null,
      "padding": null,
      "right": null,
      "top": null,
      "visibility": null,
      "width": null
     }
    },
    "1eff359db9b34807a294daf30b97bc7a": {
     "model_module": "@jupyter-widgets/base",
     "model_module_version": "1.2.0",
     "model_name": "LayoutModel",
     "state": {
      "_model_module": "@jupyter-widgets/base",
      "_model_module_version": "1.2.0",
      "_model_name": "LayoutModel",
      "_view_count": null,
      "_view_module": "@jupyter-widgets/base",
      "_view_module_version": "1.2.0",
      "_view_name": "LayoutView",
      "align_content": null,
      "align_items": null,
      "align_self": null,
      "border": null,
      "bottom": null,
      "display": null,
      "flex": null,
      "flex_flow": null,
      "grid_area": null,
      "grid_auto_columns": null,
      "grid_auto_flow": null,
      "grid_auto_rows": null,
      "grid_column": null,
      "grid_gap": null,
      "grid_row": null,
      "grid_template_areas": null,
      "grid_template_columns": null,
      "grid_template_rows": null,
      "height": null,
      "justify_content": null,
      "justify_items": null,
      "left": null,
      "margin": null,
      "max_height": null,
      "max_width": null,
      "min_height": null,
      "min_width": null,
      "object_fit": null,
      "object_position": null,
      "order": null,
      "overflow": null,
      "overflow_x": null,
      "overflow_y": null,
      "padding": null,
      "right": null,
      "top": null,
      "visibility": null,
      "width": null
     }
    },
    "206cd7b730104e65a077663f5b869dc3": {
     "model_module": "@jupyter-widgets/controls",
     "model_module_version": "1.5.0",
     "model_name": "DescriptionStyleModel",
     "state": {
      "_model_module": "@jupyter-widgets/controls",
      "_model_module_version": "1.5.0",
      "_model_name": "DescriptionStyleModel",
      "_view_count": null,
      "_view_module": "@jupyter-widgets/base",
      "_view_module_version": "1.2.0",
      "_view_name": "StyleView",
      "description_width": ""
     }
    },
    "20d1933cad7d492c9537e24f1f15af40": {
     "model_module": "@jupyter-widgets/base",
     "model_module_version": "1.2.0",
     "model_name": "LayoutModel",
     "state": {
      "_model_module": "@jupyter-widgets/base",
      "_model_module_version": "1.2.0",
      "_model_name": "LayoutModel",
      "_view_count": null,
      "_view_module": "@jupyter-widgets/base",
      "_view_module_version": "1.2.0",
      "_view_name": "LayoutView",
      "align_content": null,
      "align_items": null,
      "align_self": null,
      "border": null,
      "bottom": null,
      "display": null,
      "flex": null,
      "flex_flow": null,
      "grid_area": null,
      "grid_auto_columns": null,
      "grid_auto_flow": null,
      "grid_auto_rows": null,
      "grid_column": null,
      "grid_gap": null,
      "grid_row": null,
      "grid_template_areas": null,
      "grid_template_columns": null,
      "grid_template_rows": null,
      "height": null,
      "justify_content": null,
      "justify_items": null,
      "left": null,
      "margin": null,
      "max_height": null,
      "max_width": null,
      "min_height": null,
      "min_width": null,
      "object_fit": null,
      "object_position": null,
      "order": null,
      "overflow": null,
      "overflow_x": null,
      "overflow_y": null,
      "padding": null,
      "right": null,
      "top": null,
      "visibility": null,
      "width": null
     }
    },
    "261e54b410a74f17bd9fed519c1545c5": {
     "model_module": "@jupyter-widgets/controls",
     "model_module_version": "1.5.0",
     "model_name": "DescriptionStyleModel",
     "state": {
      "_model_module": "@jupyter-widgets/controls",
      "_model_module_version": "1.5.0",
      "_model_name": "DescriptionStyleModel",
      "_view_count": null,
      "_view_module": "@jupyter-widgets/base",
      "_view_module_version": "1.2.0",
      "_view_name": "StyleView",
      "description_width": ""
     }
    },
    "3f308feeecfd45449109f6b6f476908a": {
     "model_module": "@jupyter-widgets/controls",
     "model_module_version": "1.5.0",
     "model_name": "VBoxModel",
     "state": {
      "_dom_classes": [],
      "_model_module": "@jupyter-widgets/controls",
      "_model_module_version": "1.5.0",
      "_model_name": "VBoxModel",
      "_view_count": null,
      "_view_module": "@jupyter-widgets/controls",
      "_view_module_version": "1.5.0",
      "_view_name": "VBoxView",
      "box_style": "",
      "children": [
       "IPY_MODEL_ea414feec31d47eebb4d6f92e1a036f0",
       "IPY_MODEL_ee172b85d0c44e6d8c3f5b1e62e43b45"
      ],
      "layout": "IPY_MODEL_7731a2c14a2a42518a256063dd787e28"
     }
    },
    "588a4f4465b046c99af38961dd49de95": {
     "model_module": "@jupyter-widgets/controls",
     "model_module_version": "1.5.0",
     "model_name": "ProgressStyleModel",
     "state": {
      "_model_module": "@jupyter-widgets/controls",
      "_model_module_version": "1.5.0",
      "_model_name": "ProgressStyleModel",
      "_view_count": null,
      "_view_module": "@jupyter-widgets/base",
      "_view_module_version": "1.2.0",
      "_view_name": "StyleView",
      "bar_color": null,
      "description_width": ""
     }
    },
    "5ff463b3586c4581b85c3c92b28dee53": {
     "model_module": "@jupyter-widgets/controls",
     "model_module_version": "1.5.0",
     "model_name": "LabelModel",
     "state": {
      "_dom_classes": [],
      "_model_module": "@jupyter-widgets/controls",
      "_model_module_version": "1.5.0",
      "_model_name": "LabelModel",
      "_view_count": null,
      "_view_module": "@jupyter-widgets/controls",
      "_view_module_version": "1.5.0",
      "_view_name": "LabelView",
      "description": "",
      "description_tooltip": null,
      "layout": "IPY_MODEL_ec0ff6c9fe7d400ebbbcf2dba5762af4",
      "placeholder": "​",
      "style": "IPY_MODEL_206cd7b730104e65a077663f5b869dc3",
      "value": "1966.715 MB of 1966.715 MB uploaded\r"
     }
    },
    "661f5df730b9411b9fc3fc78289beeeb": {
     "model_module": "@jupyter-widgets/controls",
     "model_module_version": "1.5.0",
     "model_name": "VBoxModel",
     "state": {
      "_dom_classes": [],
      "_model_module": "@jupyter-widgets/controls",
      "_model_module_version": "1.5.0",
      "_model_name": "VBoxModel",
      "_view_count": null,
      "_view_module": "@jupyter-widgets/controls",
      "_view_module_version": "1.5.0",
      "_view_name": "VBoxView",
      "box_style": "",
      "children": [
       "IPY_MODEL_5ff463b3586c4581b85c3c92b28dee53",
       "IPY_MODEL_006a61f3e5234db18805b8e2cbfba64f"
      ],
      "layout": "IPY_MODEL_1eff359db9b34807a294daf30b97bc7a"
     }
    },
    "7731a2c14a2a42518a256063dd787e28": {
     "model_module": "@jupyter-widgets/base",
     "model_module_version": "1.2.0",
     "model_name": "LayoutModel",
     "state": {
      "_model_module": "@jupyter-widgets/base",
      "_model_module_version": "1.2.0",
      "_model_name": "LayoutModel",
      "_view_count": null,
      "_view_module": "@jupyter-widgets/base",
      "_view_module_version": "1.2.0",
      "_view_name": "LayoutView",
      "align_content": null,
      "align_items": null,
      "align_self": null,
      "border": null,
      "bottom": null,
      "display": null,
      "flex": null,
      "flex_flow": null,
      "grid_area": null,
      "grid_auto_columns": null,
      "grid_auto_flow": null,
      "grid_auto_rows": null,
      "grid_column": null,
      "grid_gap": null,
      "grid_row": null,
      "grid_template_areas": null,
      "grid_template_columns": null,
      "grid_template_rows": null,
      "height": null,
      "justify_content": null,
      "justify_items": null,
      "left": null,
      "margin": null,
      "max_height": null,
      "max_width": null,
      "min_height": null,
      "min_width": null,
      "object_fit": null,
      "object_position": null,
      "order": null,
      "overflow": null,
      "overflow_x": null,
      "overflow_y": null,
      "padding": null,
      "right": null,
      "top": null,
      "visibility": null,
      "width": null
     }
    },
    "8e2e5e3dbb474c94860b8c6e811386cc": {
     "model_module": "@jupyter-widgets/controls",
     "model_module_version": "1.5.0",
     "model_name": "ProgressStyleModel",
     "state": {
      "_model_module": "@jupyter-widgets/controls",
      "_model_module_version": "1.5.0",
      "_model_name": "ProgressStyleModel",
      "_view_count": null,
      "_view_module": "@jupyter-widgets/base",
      "_view_module_version": "1.2.0",
      "_view_name": "StyleView",
      "bar_color": null,
      "description_width": ""
     }
    },
    "ea414feec31d47eebb4d6f92e1a036f0": {
     "model_module": "@jupyter-widgets/controls",
     "model_module_version": "1.5.0",
     "model_name": "LabelModel",
     "state": {
      "_dom_classes": [],
      "_model_module": "@jupyter-widgets/controls",
      "_model_module_version": "1.5.0",
      "_model_name": "LabelModel",
      "_view_count": null,
      "_view_module": "@jupyter-widgets/controls",
      "_view_module_version": "1.5.0",
      "_view_name": "LabelView",
      "description": "",
      "description_tooltip": null,
      "layout": "IPY_MODEL_1316d9fc9ffd4fa99032e7dcc740d5f6",
      "placeholder": "​",
      "style": "IPY_MODEL_261e54b410a74f17bd9fed519c1545c5",
      "value": "3441.743 MB of 3441.743 MB uploaded\r"
     }
    },
    "ec0ff6c9fe7d400ebbbcf2dba5762af4": {
     "model_module": "@jupyter-widgets/base",
     "model_module_version": "1.2.0",
     "model_name": "LayoutModel",
     "state": {
      "_model_module": "@jupyter-widgets/base",
      "_model_module_version": "1.2.0",
      "_model_name": "LayoutModel",
      "_view_count": null,
      "_view_module": "@jupyter-widgets/base",
      "_view_module_version": "1.2.0",
      "_view_name": "LayoutView",
      "align_content": null,
      "align_items": null,
      "align_self": null,
      "border": null,
      "bottom": null,
      "display": null,
      "flex": null,
      "flex_flow": null,
      "grid_area": null,
      "grid_auto_columns": null,
      "grid_auto_flow": null,
      "grid_auto_rows": null,
      "grid_column": null,
      "grid_gap": null,
      "grid_row": null,
      "grid_template_areas": null,
      "grid_template_columns": null,
      "grid_template_rows": null,
      "height": null,
      "justify_content": null,
      "justify_items": null,
      "left": null,
      "margin": null,
      "max_height": null,
      "max_width": null,
      "min_height": null,
      "min_width": null,
      "object_fit": null,
      "object_position": null,
      "order": null,
      "overflow": null,
      "overflow_x": null,
      "overflow_y": null,
      "padding": null,
      "right": null,
      "top": null,
      "visibility": null,
      "width": null
     }
    },
    "ee172b85d0c44e6d8c3f5b1e62e43b45": {
     "model_module": "@jupyter-widgets/controls",
     "model_module_version": "1.5.0",
     "model_name": "FloatProgressModel",
     "state": {
      "_dom_classes": [],
      "_model_module": "@jupyter-widgets/controls",
      "_model_module_version": "1.5.0",
      "_model_name": "FloatProgressModel",
      "_view_count": null,
      "_view_module": "@jupyter-widgets/controls",
      "_view_module_version": "1.5.0",
      "_view_name": "ProgressView",
      "bar_style": "",
      "description": "",
      "description_tooltip": null,
      "layout": "IPY_MODEL_fb7f323b65444c7887d1fd23b33d8acb",
      "max": 1,
      "min": 0,
      "orientation": "horizontal",
      "style": "IPY_MODEL_8e2e5e3dbb474c94860b8c6e811386cc",
      "value": 1
     }
    },
    "fb7f323b65444c7887d1fd23b33d8acb": {
     "model_module": "@jupyter-widgets/base",
     "model_module_version": "1.2.0",
     "model_name": "LayoutModel",
     "state": {
      "_model_module": "@jupyter-widgets/base",
      "_model_module_version": "1.2.0",
      "_model_name": "LayoutModel",
      "_view_count": null,
      "_view_module": "@jupyter-widgets/base",
      "_view_module_version": "1.2.0",
      "_view_name": "LayoutView",
      "align_content": null,
      "align_items": null,
      "align_self": null,
      "border": null,
      "bottom": null,
      "display": null,
      "flex": null,
      "flex_flow": null,
      "grid_area": null,
      "grid_auto_columns": null,
      "grid_auto_flow": null,
      "grid_auto_rows": null,
      "grid_column": null,
      "grid_gap": null,
      "grid_row": null,
      "grid_template_areas": null,
      "grid_template_columns": null,
      "grid_template_rows": null,
      "height": null,
      "justify_content": null,
      "justify_items": null,
      "left": null,
      "margin": null,
      "max_height": null,
      "max_width": null,
      "min_height": null,
      "min_width": null,
      "object_fit": null,
      "object_position": null,
      "order": null,
      "overflow": null,
      "overflow_x": null,
      "overflow_y": null,
      "padding": null,
      "right": null,
      "top": null,
      "visibility": null,
      "width": null
     }
    }
   }
  }
 },
 "nbformat": 4,
 "nbformat_minor": 1
}
